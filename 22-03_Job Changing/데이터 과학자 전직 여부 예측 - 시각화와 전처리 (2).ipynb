{
 "cells": [
  {
   "cell_type": "markdown",
   "id": "ba364fa5",
   "metadata": {},
   "source": [
    "데이터 과학자의 전직 여부 예측 전, 시각화를 포함한 EDA와 전처리 과정 두 번째"
   ]
  },
  {
   "cell_type": "markdown",
   "id": "9b36dd75",
   "metadata": {},
   "source": [
    "[첫 번째 게시글][postlink]에서는 데이터 과학자의 전직 여부를 예측하기에 앞서 5개의 컬럼에 대한 시각화와 전처리를 실시하였습니다. 이번 게시글에서는 나머지 컬럼들에 대한 EDA와 전처리를 이어서 진행해보고자합니다. 주제와 데이터에 대한 설명이 필요하신 분들은 이전 게시글을 참고해주세요.\n",
    "\n",
    "[postlink]: https://eunju-choe.github.io/posts/2022-05-20-DataScientist%20EDA%201"
   ]
  },
  {
   "cell_type": "markdown",
   "id": "530c2a11",
   "metadata": {},
   "source": [
    "---"
   ]
  },
  {
   "cell_type": "code",
   "execution_count": 1,
   "id": "cb213b44",
   "metadata": {
    "ExecuteTime": {
     "end_time": "2022-05-27T14:56:59.176159Z",
     "start_time": "2022-05-27T14:56:55.906540Z"
    },
    "hide_input": false
   },
   "outputs": [],
   "source": [
    "import pandas as pd\n",
    "import numpy as np\n",
    "import seaborn as sns\n",
    "import matplotlib.pyplot as plt\n",
    "\n",
    "# 그래프 한글 폰트 설정\n",
    "from matplotlib import font_manager, rc\n",
    "font_name = font_manager.FontProperties(fname='C:/Windows/Fonts/malgun.ttf').get_name()\n",
    "rc('font', family=font_name)\n",
    "\n",
    "import warnings\n",
    "warnings.filterwarnings('ignore')"
   ]
  },
  {
   "cell_type": "markdown",
   "id": "897fd498",
   "metadata": {},
   "source": [
    "먼저 이전 게시글에서 전처리한 결과를 저장해둔 파일을 불러옵니다."
   ]
  },
  {
   "cell_type": "code",
   "execution_count": 2,
   "id": "0fae1c73",
   "metadata": {
    "ExecuteTime": {
     "end_time": "2022-05-27T14:57:01.970841Z",
     "start_time": "2022-05-27T14:57:01.857965Z"
    },
    "scrolled": true
   },
   "outputs": [
    {
     "data": {
      "text/html": [
       "<div>\n",
       "<style scoped>\n",
       "    .dataframe tbody tr th:only-of-type {\n",
       "        vertical-align: middle;\n",
       "    }\n",
       "\n",
       "    .dataframe tbody tr th {\n",
       "        vertical-align: top;\n",
       "    }\n",
       "\n",
       "    .dataframe thead th {\n",
       "        text-align: right;\n",
       "    }\n",
       "</style>\n",
       "<table border=\"1\" class=\"dataframe\">\n",
       "  <thead>\n",
       "    <tr style=\"text-align: right;\">\n",
       "      <th></th>\n",
       "      <th>city_development_index</th>\n",
       "      <th>relevent_experience</th>\n",
       "      <th>enrolled_university</th>\n",
       "      <th>education_level</th>\n",
       "      <th>major_discipline</th>\n",
       "      <th>experience</th>\n",
       "      <th>company_size</th>\n",
       "      <th>company_type</th>\n",
       "      <th>last_new_job</th>\n",
       "      <th>training_hours</th>\n",
       "      <th>target</th>\n",
       "      <th>gender_M</th>\n",
       "      <th>gender_F</th>\n",
       "    </tr>\n",
       "  </thead>\n",
       "  <tbody>\n",
       "    <tr>\n",
       "      <th>0</th>\n",
       "      <td>0.920</td>\n",
       "      <td>1</td>\n",
       "      <td>no_enrollment</td>\n",
       "      <td>Graduate</td>\n",
       "      <td>STEM</td>\n",
       "      <td>&gt;20</td>\n",
       "      <td>NaN</td>\n",
       "      <td>NaN</td>\n",
       "      <td>1</td>\n",
       "      <td>36</td>\n",
       "      <td>1.0</td>\n",
       "      <td>1</td>\n",
       "      <td>0</td>\n",
       "    </tr>\n",
       "    <tr>\n",
       "      <th>1</th>\n",
       "      <td>0.776</td>\n",
       "      <td>0</td>\n",
       "      <td>no_enrollment</td>\n",
       "      <td>Graduate</td>\n",
       "      <td>STEM</td>\n",
       "      <td>15</td>\n",
       "      <td>50-99</td>\n",
       "      <td>Pvt Ltd</td>\n",
       "      <td>&gt;4</td>\n",
       "      <td>47</td>\n",
       "      <td>0.0</td>\n",
       "      <td>1</td>\n",
       "      <td>0</td>\n",
       "    </tr>\n",
       "    <tr>\n",
       "      <th>2</th>\n",
       "      <td>0.624</td>\n",
       "      <td>0</td>\n",
       "      <td>Full time course</td>\n",
       "      <td>Graduate</td>\n",
       "      <td>STEM</td>\n",
       "      <td>5</td>\n",
       "      <td>NaN</td>\n",
       "      <td>NaN</td>\n",
       "      <td>never</td>\n",
       "      <td>83</td>\n",
       "      <td>0.0</td>\n",
       "      <td>0</td>\n",
       "      <td>0</td>\n",
       "    </tr>\n",
       "    <tr>\n",
       "      <th>3</th>\n",
       "      <td>0.789</td>\n",
       "      <td>0</td>\n",
       "      <td>NaN</td>\n",
       "      <td>Graduate</td>\n",
       "      <td>Business Degree</td>\n",
       "      <td>&lt;1</td>\n",
       "      <td>NaN</td>\n",
       "      <td>Pvt Ltd</td>\n",
       "      <td>never</td>\n",
       "      <td>52</td>\n",
       "      <td>1.0</td>\n",
       "      <td>0</td>\n",
       "      <td>0</td>\n",
       "    </tr>\n",
       "    <tr>\n",
       "      <th>4</th>\n",
       "      <td>0.767</td>\n",
       "      <td>1</td>\n",
       "      <td>no_enrollment</td>\n",
       "      <td>Masters</td>\n",
       "      <td>STEM</td>\n",
       "      <td>&gt;20</td>\n",
       "      <td>50-99</td>\n",
       "      <td>Funded Startup</td>\n",
       "      <td>4</td>\n",
       "      <td>8</td>\n",
       "      <td>0.0</td>\n",
       "      <td>1</td>\n",
       "      <td>0</td>\n",
       "    </tr>\n",
       "  </tbody>\n",
       "</table>\n",
       "</div>"
      ],
      "text/plain": [
       "   city_development_index  relevent_experience enrolled_university  \\\n",
       "0                   0.920                    1       no_enrollment   \n",
       "1                   0.776                    0       no_enrollment   \n",
       "2                   0.624                    0    Full time course   \n",
       "3                   0.789                    0                 NaN   \n",
       "4                   0.767                    1       no_enrollment   \n",
       "\n",
       "  education_level major_discipline experience company_size    company_type  \\\n",
       "0        Graduate             STEM        >20          NaN             NaN   \n",
       "1        Graduate             STEM         15        50-99         Pvt Ltd   \n",
       "2        Graduate             STEM          5          NaN             NaN   \n",
       "3        Graduate  Business Degree         <1          NaN         Pvt Ltd   \n",
       "4         Masters             STEM        >20        50-99  Funded Startup   \n",
       "\n",
       "  last_new_job  training_hours  target  gender_M  gender_F  \n",
       "0            1              36     1.0         1         0  \n",
       "1           >4              47     0.0         1         0  \n",
       "2        never              83     0.0         0         0  \n",
       "3        never              52     1.0         0         0  \n",
       "4            4               8     0.0         1         0  "
      ]
     },
     "execution_count": 2,
     "metadata": {},
     "output_type": "execute_result"
    }
   ],
   "source": [
    "df = pd.read_csv('df_processed_1.csv')\n",
    "df.head()"
   ]
  },
  {
   "cell_type": "markdown",
   "id": "5069c1af",
   "metadata": {},
   "source": [
    "*df_processed_1.csv* 파일은 [Github][link]에서 다운받으실 수 있습니다.\n",
    " \n",
    "[link]: https://github.com/Eunju-Choe/Eunju-Choe/tree/main/blog/ds_classification"
   ]
  },
  {
   "cell_type": "markdown",
   "id": "e42d32f7",
   "metadata": {},
   "source": [
    "# 1. 컬럼별 EDA와 전처리"
   ]
  },
  {
   "cell_type": "markdown",
   "id": "9f9f828d",
   "metadata": {},
   "source": [
    "이전 게시글에서 사용했던 함수를 다시 한 번 정의하였습니다. 추가적으로 categorical 변수를 시각화하는 **plot_cat()** 함수를 정의하였습니다."
   ]
  },
  {
   "cell_type": "code",
   "execution_count": 411,
   "id": "6f96d106",
   "metadata": {
    "ExecuteTime": {
     "end_time": "2022-05-21T19:31:40.097786Z",
     "start_time": "2022-05-21T19:31:40.083824Z"
    }
   },
   "outputs": [],
   "source": [
    "def check_cat(x):\n",
    "    \"\"\"\n",
    "    x : pd.Series 형식의 input\n",
    "    categorical 변수의 유일값과 결측치의 개수를 확인하고 value_counts 출력\n",
    "    \"\"\"\n",
    "    print('유일값 개수 :', x.nunique())\n",
    "    print('결측치 개수 :', x.isna().sum(), end='\\n\\n')\n",
    "    print('### value counts ###')\n",
    "    print(x.value_counts())\n",
    "    \n",
    "    \n",
    "def check_cont(x):\n",
    "    \"\"\"\n",
    "    x : pd.Series 형식의 input\n",
    "    연속형 변수의 결측치 개수를 확인하고 describe 출력\n",
    "    \"\"\"\n",
    "    print('결측치 개수 :', x.isna().sum(), end='\\n\\n')\n",
    "    print('### describe ###')\n",
    "    print(x.describe())\n",
    "    \n",
    "    \n",
    "def plot_cat(x_name):\n",
    "    \"\"\"\n",
    "    x_name : str 형식의 df의 컬럼명을 input\n",
    "    categorical 변수를 시각화하고 전직 희망 비율을 출력\n",
    "    \"\"\"\n",
    "    plt.figure(figsize=(8,5))\n",
    "    sns.countplot(x=x_name, hue='target', data=df)\n",
    "    plt.legend(labels=['Not looking for job change', 'Looking for a job change'], fontsize=13)\n",
    "    plt.title(f'{x_name}에 따른 전직 희망 분포', fontsize=15)\n",
    "    plt.show()\n",
    "    \n",
    "    return pd.DataFrame(df.groupby(x_name).mean()['target'])"
   ]
  },
  {
   "cell_type": "markdown",
   "id": "cfa827c9",
   "metadata": {},
   "source": [
    "## 1.5. enrolled_university"
   ]
  },
  {
   "cell_type": "markdown",
   "id": "55b93030",
   "metadata": {},
   "source": [
    "- Type of university course enrolled if any"
   ]
  },
  {
   "cell_type": "code",
   "execution_count": 412,
   "id": "45a312d2",
   "metadata": {
    "ExecuteTime": {
     "end_time": "2022-05-21T19:31:40.112746Z",
     "start_time": "2022-05-21T19:31:40.099782Z"
    }
   },
   "outputs": [
    {
     "name": "stdout",
     "output_type": "stream",
     "text": [
      "유일값 개수 : 3\n",
      "결측치 개수 : 386\n",
      "\n",
      "### value counts ###\n",
      "no_enrollment       13817\n",
      "Full time course     3757\n",
      "Part time course     1198\n",
      "Name: enrolled_university, dtype: int64\n"
     ]
    }
   ],
   "source": [
    "check_cat(df['enrolled_university'])"
   ]
  },
  {
   "cell_type": "markdown",
   "id": "70f20b8e",
   "metadata": {},
   "source": [
    "'enrolled_university'는 386개의 **결측치가 존재**하여 이에 대한 처리가 필요하며, **문자형 변수이기때문에 인코딩 작업**도 필요합니다.\n",
    " \n",
    "등록된 대학에 따른 전직 희망 분포에 대한 그래프는 아래와 같습니다."
   ]
  },
  {
   "cell_type": "code",
   "execution_count": 413,
   "id": "537e2881",
   "metadata": {
    "ExecuteTime": {
     "end_time": "2022-05-21T19:31:40.317200Z",
     "start_time": "2022-05-21T19:31:40.113746Z"
    }
   },
   "outputs": [
    {
     "data": {
      "image/png": "[encoded data removed]",
      "text/plain": [
       "<Figure size 576x360 with 1 Axes>"
      ]
     },
     "metadata": {
      "needs_background": "light"
     },
     "output_type": "display_data"
    },
    {
     "data": {
      "text/html": [
       "<div>\n",
       "<style scoped>\n",
       "    .dataframe tbody tr th:only-of-type {\n",
       "        vertical-align: middle;\n",
       "    }\n",
       "\n",
       "    .dataframe tbody tr th {\n",
       "        vertical-align: top;\n",
       "    }\n",
       "\n",
       "    .dataframe thead th {\n",
       "        text-align: right;\n",
       "    }\n",
       "</style>\n",
       "<table border=\"1\" class=\"dataframe\">\n",
       "  <thead>\n",
       "    <tr style=\"text-align: right;\">\n",
       "      <th></th>\n",
       "      <th>target</th>\n",
       "    </tr>\n",
       "    <tr>\n",
       "      <th>enrolled_university</th>\n",
       "      <th></th>\n",
       "    </tr>\n",
       "  </thead>\n",
       "  <tbody>\n",
       "    <tr>\n",
       "      <th>Full time course</th>\n",
       "      <td>0.380889</td>\n",
       "    </tr>\n",
       "    <tr>\n",
       "      <th>Part time course</th>\n",
       "      <td>0.252087</td>\n",
       "    </tr>\n",
       "    <tr>\n",
       "      <th>no_enrollment</th>\n",
       "      <td>0.211406</td>\n",
       "    </tr>\n",
       "  </tbody>\n",
       "</table>\n",
       "</div>"
      ],
      "text/plain": [
       "                       target\n",
       "enrolled_university          \n",
       "Full time course     0.380889\n",
       "Part time course     0.252087\n",
       "no_enrollment        0.211406"
      ]
     },
     "execution_count": 413,
     "metadata": {},
     "output_type": "execute_result"
    }
   ],
   "source": [
    "plot_cat('enrolled_university')"
   ]
  },
  {
   "cell_type": "markdown",
   "id": "ba75f11d",
   "metadata": {},
   "source": [
    "enrolled_university는 **현재** 대학을 다니고 있는지를 나타냅니다. **Full time course의 경우 다른 집단보다 전직 희망 비율이 높은 것을 확인**할 수 있습니다. *이에 대해 자의적인 해석을 덧붙이면,* 전일제 대학을 다니고 있는 사람의 경우 대부분 졸업 후에 취직을 희망할 것입니다. 반면 no_enrollement는 대학을 다니고 있지 않은 사람들로, 현재 소속된 직장이 있을 확률이 높습니다. 따라서 Full time course에서 전직 희망 비율이 높고, no_enrollment에서 전직 희망 비율이 낮다고 해석할 수 있습니다."
   ]
  },
  {
   "cell_type": "code",
   "execution_count": 414,
   "id": "3e36fb6b",
   "metadata": {
    "ExecuteTime": {
     "end_time": "2022-05-21T19:31:40.349114Z",
     "start_time": "2022-05-21T19:31:40.319196Z"
    }
   },
   "outputs": [
    {
     "data": {
      "text/html": [
       "<div>\n",
       "<style scoped>\n",
       "    .dataframe tbody tr th:only-of-type {\n",
       "        vertical-align: middle;\n",
       "    }\n",
       "\n",
       "    .dataframe tbody tr th {\n",
       "        vertical-align: top;\n",
       "    }\n",
       "\n",
       "    .dataframe thead th {\n",
       "        text-align: right;\n",
       "    }\n",
       "</style>\n",
       "<table border=\"1\" class=\"dataframe\">\n",
       "  <thead>\n",
       "    <tr style=\"text-align: right;\">\n",
       "      <th></th>\n",
       "      <th>city_development_index</th>\n",
       "      <th>relevent_experience</th>\n",
       "      <th>education_level</th>\n",
       "      <th>major_discipline</th>\n",
       "      <th>experience</th>\n",
       "      <th>company_size</th>\n",
       "      <th>company_type</th>\n",
       "      <th>last_new_job</th>\n",
       "      <th>training_hours</th>\n",
       "      <th>target</th>\n",
       "      <th>gender_M</th>\n",
       "      <th>gender_F</th>\n",
       "      <th>enrolled_university_Full time course</th>\n",
       "      <th>enrolled_university_Part time course</th>\n",
       "      <th>enrolled_university_no_enrollment</th>\n",
       "    </tr>\n",
       "  </thead>\n",
       "  <tbody>\n",
       "    <tr>\n",
       "      <th>0</th>\n",
       "      <td>0.920</td>\n",
       "      <td>1</td>\n",
       "      <td>Graduate</td>\n",
       "      <td>STEM</td>\n",
       "      <td>&gt;20</td>\n",
       "      <td>NaN</td>\n",
       "      <td>NaN</td>\n",
       "      <td>1</td>\n",
       "      <td>36</td>\n",
       "      <td>1.0</td>\n",
       "      <td>1</td>\n",
       "      <td>0</td>\n",
       "      <td>0</td>\n",
       "      <td>0</td>\n",
       "      <td>1</td>\n",
       "    </tr>\n",
       "    <tr>\n",
       "      <th>1</th>\n",
       "      <td>0.776</td>\n",
       "      <td>0</td>\n",
       "      <td>Graduate</td>\n",
       "      <td>STEM</td>\n",
       "      <td>15</td>\n",
       "      <td>50-99</td>\n",
       "      <td>Pvt Ltd</td>\n",
       "      <td>&gt;4</td>\n",
       "      <td>47</td>\n",
       "      <td>0.0</td>\n",
       "      <td>1</td>\n",
       "      <td>0</td>\n",
       "      <td>0</td>\n",
       "      <td>0</td>\n",
       "      <td>1</td>\n",
       "    </tr>\n",
       "    <tr>\n",
       "      <th>2</th>\n",
       "      <td>0.624</td>\n",
       "      <td>0</td>\n",
       "      <td>Graduate</td>\n",
       "      <td>STEM</td>\n",
       "      <td>5</td>\n",
       "      <td>NaN</td>\n",
       "      <td>NaN</td>\n",
       "      <td>never</td>\n",
       "      <td>83</td>\n",
       "      <td>0.0</td>\n",
       "      <td>0</td>\n",
       "      <td>0</td>\n",
       "      <td>1</td>\n",
       "      <td>0</td>\n",
       "      <td>0</td>\n",
       "    </tr>\n",
       "    <tr>\n",
       "      <th>3</th>\n",
       "      <td>0.789</td>\n",
       "      <td>0</td>\n",
       "      <td>Graduate</td>\n",
       "      <td>Business Degree</td>\n",
       "      <td>&lt;1</td>\n",
       "      <td>NaN</td>\n",
       "      <td>Pvt Ltd</td>\n",
       "      <td>never</td>\n",
       "      <td>52</td>\n",
       "      <td>1.0</td>\n",
       "      <td>0</td>\n",
       "      <td>0</td>\n",
       "      <td>0</td>\n",
       "      <td>0</td>\n",
       "      <td>0</td>\n",
       "    </tr>\n",
       "    <tr>\n",
       "      <th>4</th>\n",
       "      <td>0.767</td>\n",
       "      <td>1</td>\n",
       "      <td>Masters</td>\n",
       "      <td>STEM</td>\n",
       "      <td>&gt;20</td>\n",
       "      <td>50-99</td>\n",
       "      <td>Funded Startup</td>\n",
       "      <td>4</td>\n",
       "      <td>8</td>\n",
       "      <td>0.0</td>\n",
       "      <td>1</td>\n",
       "      <td>0</td>\n",
       "      <td>0</td>\n",
       "      <td>0</td>\n",
       "      <td>1</td>\n",
       "    </tr>\n",
       "  </tbody>\n",
       "</table>\n",
       "</div>"
      ],
      "text/plain": [
       "   city_development_index  relevent_experience education_level  \\\n",
       "0                   0.920                    1        Graduate   \n",
       "1                   0.776                    0        Graduate   \n",
       "2                   0.624                    0        Graduate   \n",
       "3                   0.789                    0        Graduate   \n",
       "4                   0.767                    1         Masters   \n",
       "\n",
       "  major_discipline experience company_size    company_type last_new_job  \\\n",
       "0             STEM        >20          NaN             NaN            1   \n",
       "1             STEM         15        50-99         Pvt Ltd           >4   \n",
       "2             STEM          5          NaN             NaN        never   \n",
       "3  Business Degree         <1          NaN         Pvt Ltd        never   \n",
       "4             STEM        >20        50-99  Funded Startup            4   \n",
       "\n",
       "   training_hours  target  gender_M  gender_F  \\\n",
       "0              36     1.0         1         0   \n",
       "1              47     0.0         1         0   \n",
       "2              83     0.0         0         0   \n",
       "3              52     1.0         0         0   \n",
       "4               8     0.0         1         0   \n",
       "\n",
       "   enrolled_university_Full time course  enrolled_university_Part time course  \\\n",
       "0                                     0                                     0   \n",
       "1                                     0                                     0   \n",
       "2                                     1                                     0   \n",
       "3                                     0                                     0   \n",
       "4                                     0                                     0   \n",
       "\n",
       "   enrolled_university_no_enrollment  \n",
       "0                                  1  \n",
       "1                                  1  \n",
       "2                                  0  \n",
       "3                                  0  \n",
       "4                                  1  "
      ]
     },
     "execution_count": 414,
     "metadata": {},
     "output_type": "execute_result"
    }
   ],
   "source": [
    "df = pd.get_dummies(df, columns=['enrolled_university'])\n",
    "df.head()"
   ]
  },
  {
   "cell_type": "markdown",
   "id": "eaf70d61",
   "metadata": {},
   "source": [
    "enrolled_university는 그 값의 차이가 서열이 존재하는 데이터가 아니기때문에 **(명목척도, nominal scale)** dummy 변수로 바꾸었습니다. 결측치의 경우 자연스럽게 **더미화로 생성된 3개의 컬럼에서 모두 0의 값을 갖는 것으로 처리**되었습니다."
   ]
  },
  {
   "cell_type": "markdown",
   "id": "49dcaed0",
   "metadata": {},
   "source": [
    "## 1.6. education_level"
   ]
  },
  {
   "cell_type": "markdown",
   "id": "a6c07129",
   "metadata": {},
   "source": [
    "- Edu level"
   ]
  },
  {
   "cell_type": "code",
   "execution_count": 415,
   "id": "ae71ba15",
   "metadata": {
    "ExecuteTime": {
     "end_time": "2022-05-21T19:31:40.365071Z",
     "start_time": "2022-05-21T19:31:40.351110Z"
    }
   },
   "outputs": [
    {
     "name": "stdout",
     "output_type": "stream",
     "text": [
      "유일값 개수 : 5\n",
      "결측치 개수 : 460\n",
      "\n",
      "### value counts ###\n",
      "Graduate          11598\n",
      "Masters            4361\n",
      "High School        2017\n",
      "Phd                 414\n",
      "Primary School      308\n",
      "Name: education_level, dtype: int64\n"
     ]
    }
   ],
   "source": [
    "check_cat(df['education_level'])"
   ]
  },
  {
   "cell_type": "markdown",
   "id": "b8d04641",
   "metadata": {},
   "source": [
    "대졸자(Graduate)가 전체의 60%로 가장 많은 비율을 차지하는 것을 간단하게 확인할 수 있습니다. education_level 역시 **결측치 처리**와 **레이블 인코딩**이 필요합니다.\n",
    "\n",
    "education_level에 따른 전직 희망 분포는 다음과 같습니다."
   ]
  },
  {
   "cell_type": "code",
   "execution_count": 416,
   "id": "2dd84168",
   "metadata": {
    "ExecuteTime": {
     "end_time": "2022-05-21T19:31:40.552570Z",
     "start_time": "2022-05-21T19:31:40.367067Z"
    }
   },
   "outputs": [
    {
     "data": {
      "image/png": "[encoded data removed]",
      "text/plain": [
       "<Figure size 576x360 with 1 Axes>"
      ]
     },
     "metadata": {
      "needs_background": "light"
     },
     "output_type": "display_data"
    },
    {
     "data": {
      "text/html": [
       "<div>\n",
       "<style scoped>\n",
       "    .dataframe tbody tr th:only-of-type {\n",
       "        vertical-align: middle;\n",
       "    }\n",
       "\n",
       "    .dataframe tbody tr th {\n",
       "        vertical-align: top;\n",
       "    }\n",
       "\n",
       "    .dataframe thead th {\n",
       "        text-align: right;\n",
       "    }\n",
       "</style>\n",
       "<table border=\"1\" class=\"dataframe\">\n",
       "  <thead>\n",
       "    <tr style=\"text-align: right;\">\n",
       "      <th></th>\n",
       "      <th>target</th>\n",
       "    </tr>\n",
       "    <tr>\n",
       "      <th>education_level</th>\n",
       "      <th></th>\n",
       "    </tr>\n",
       "  </thead>\n",
       "  <tbody>\n",
       "    <tr>\n",
       "      <th>Graduate</th>\n",
       "      <td>0.279790</td>\n",
       "    </tr>\n",
       "    <tr>\n",
       "      <th>High School</th>\n",
       "      <td>0.195340</td>\n",
       "    </tr>\n",
       "    <tr>\n",
       "      <th>Masters</th>\n",
       "      <td>0.214400</td>\n",
       "    </tr>\n",
       "    <tr>\n",
       "      <th>Phd</th>\n",
       "      <td>0.140097</td>\n",
       "    </tr>\n",
       "    <tr>\n",
       "      <th>Primary School</th>\n",
       "      <td>0.133117</td>\n",
       "    </tr>\n",
       "  </tbody>\n",
       "</table>\n",
       "</div>"
      ],
      "text/plain": [
       "                   target\n",
       "education_level          \n",
       "Graduate         0.279790\n",
       "High School      0.195340\n",
       "Masters          0.214400\n",
       "Phd              0.140097\n",
       "Primary School   0.133117"
      ]
     },
     "execution_count": 416,
     "metadata": {},
     "output_type": "execute_result"
    }
   ],
   "source": [
    "plot_cat('education_level')"
   ]
  },
  {
   "cell_type": "markdown",
   "id": "43dd6b11",
   "metadata": {},
   "source": [
    "**전직 희망 비율도 대졸자가 가장 높습니다.** 또한 다른 집단에 비하여 비교적 높은 비율을 갖고 있는 것을 알 수 있습니다."
   ]
  },
  {
   "cell_type": "markdown",
   "id": "27a45eb8",
   "metadata": {},
   "source": [
    "학력의 경우 값들 사이에 **서열이 존재**한다고 할 수 있습니다. 따라서 Primary < High < Graduate < Masters < Phd의 순서로 Label Encoding을 실시하였습니다."
   ]
  },
  {
   "cell_type": "code",
   "execution_count": 417,
   "id": "266902e6",
   "metadata": {
    "ExecuteTime": {
     "end_time": "2022-05-21T19:31:40.584484Z",
     "start_time": "2022-05-21T19:31:40.554565Z"
    }
   },
   "outputs": [
    {
     "data": {
      "text/plain": [
       "3.0    11598\n",
       "4.0     4361\n",
       "2.0     2017\n",
       "5.0      414\n",
       "1.0      308\n",
       "Name: education_level, dtype: int64"
      ]
     },
     "execution_count": 417,
     "metadata": {},
     "output_type": "execute_result"
    }
   ],
   "source": [
    "edu_level = {'Primary School' : 1, 'High School' : 2,\n",
    "            'Graduate' : 3, 'Masters' : 4, 'Phd' : 5}\n",
    "\n",
    "df['education_level'] = df['education_level'].apply(lambda x : edu_level.get(x, x))\n",
    "df['education_level'].value_counts()"
   ]
  },
  {
   "cell_type": "markdown",
   "id": "f74a09fc",
   "metadata": {},
   "source": [
    "value_counts() 함수를 이용하여 레이블 인코딩이 제대로 수행된 것을 확인하였습니다. 이어서 결측치 처리를 실시합니다."
   ]
  },
  {
   "cell_type": "code",
   "execution_count": 418,
   "id": "57e51644",
   "metadata": {
    "ExecuteTime": {
     "end_time": "2022-05-21T19:31:40.599447Z",
     "start_time": "2022-05-21T19:31:40.586479Z"
    }
   },
   "outputs": [
    {
     "name": "stdout",
     "output_type": "stream",
     "text": [
      "결측치 개수 : 0\n"
     ]
    }
   ],
   "source": [
    "df['education_level'] = df['education_level'].fillna(3)\n",
    "print('결측치 개수 :', df['education_level'].isna().sum())"
   ]
  },
  {
   "cell_type": "markdown",
   "id": "7002b77d",
   "metadata": {},
   "source": [
    "결측치는 단순하게 **최빈값**이자 **중앙값**인 3(Graduate)로 대체하였습니다."
   ]
  },
  {
   "cell_type": "markdown",
   "id": "c4004f85",
   "metadata": {},
   "source": [
    "## 1.7. major_discipline"
   ]
  },
  {
   "cell_type": "code",
   "execution_count": 419,
   "id": "a359d730",
   "metadata": {
    "ExecuteTime": {
     "end_time": "2022-05-21T19:31:40.614405Z",
     "start_time": "2022-05-21T19:31:40.602436Z"
    }
   },
   "outputs": [
    {
     "name": "stdout",
     "output_type": "stream",
     "text": [
      "유일값 개수 : 6\n",
      "결측치 개수 : 2813\n",
      "\n",
      "### value counts ###\n",
      "STEM               14492\n",
      "Humanities           669\n",
      "Other                381\n",
      "Business Degree      327\n",
      "Arts                 253\n",
      "No Major             223\n",
      "Name: major_discipline, dtype: int64\n"
     ]
    }
   ],
   "source": [
    "check_cat(df['major_discipline'])"
   ]
  },
  {
   "cell_type": "markdown",
   "id": "59a74b36",
   "metadata": {},
   "source": [
    "major_discipline 역시 **결측치 처리**와 **문자형 변수를 수치화**하는 작업이 필요합니다. 그리고 유일값이 6개인데 **대부분(약 75%)이 STEM(Science, Technology, Engineering, Math) 전공**임을 확인할 수 있습니다."
   ]
  },
  {
   "cell_type": "code",
   "execution_count": 420,
   "id": "caf4d306",
   "metadata": {
    "ExecuteTime": {
     "end_time": "2022-05-21T19:31:40.803925Z",
     "start_time": "2022-05-21T19:31:40.617398Z"
    }
   },
   "outputs": [
    {
     "data": {
      "image/png": "[encoded data removed]",
      "text/plain": [
       "<Figure size 576x360 with 1 Axes>"
      ]
     },
     "metadata": {
      "needs_background": "light"
     },
     "output_type": "display_data"
    },
    {
     "data": {
      "text/html": [
       "<div>\n",
       "<style scoped>\n",
       "    .dataframe tbody tr th:only-of-type {\n",
       "        vertical-align: middle;\n",
       "    }\n",
       "\n",
       "    .dataframe tbody tr th {\n",
       "        vertical-align: top;\n",
       "    }\n",
       "\n",
       "    .dataframe thead th {\n",
       "        text-align: right;\n",
       "    }\n",
       "</style>\n",
       "<table border=\"1\" class=\"dataframe\">\n",
       "  <thead>\n",
       "    <tr style=\"text-align: right;\">\n",
       "      <th></th>\n",
       "      <th>target</th>\n",
       "    </tr>\n",
       "    <tr>\n",
       "      <th>major_discipline</th>\n",
       "      <th></th>\n",
       "    </tr>\n",
       "  </thead>\n",
       "  <tbody>\n",
       "    <tr>\n",
       "      <th>Arts</th>\n",
       "      <td>0.209486</td>\n",
       "    </tr>\n",
       "    <tr>\n",
       "      <th>Business Degree</th>\n",
       "      <td>0.262997</td>\n",
       "    </tr>\n",
       "    <tr>\n",
       "      <th>Humanities</th>\n",
       "      <td>0.210762</td>\n",
       "    </tr>\n",
       "    <tr>\n",
       "      <th>No Major</th>\n",
       "      <td>0.246637</td>\n",
       "    </tr>\n",
       "    <tr>\n",
       "      <th>Other</th>\n",
       "      <td>0.267717</td>\n",
       "    </tr>\n",
       "    <tr>\n",
       "      <th>STEM</th>\n",
       "      <td>0.261593</td>\n",
       "    </tr>\n",
       "  </tbody>\n",
       "</table>\n",
       "</div>"
      ],
      "text/plain": [
       "                    target\n",
       "major_discipline          \n",
       "Arts              0.209486\n",
       "Business Degree   0.262997\n",
       "Humanities        0.210762\n",
       "No Major          0.246637\n",
       "Other             0.267717\n",
       "STEM              0.261593"
      ]
     },
     "execution_count": 420,
     "metadata": {},
     "output_type": "execute_result"
    }
   ],
   "source": [
    "plot_cat('major_discipline')"
   ]
  },
  {
   "cell_type": "markdown",
   "id": "1b249071",
   "metadata": {},
   "source": [
    "전직 희망 비율에서 범주별로 큰 차이는 없는 것처럼 보입니다. 그리고 STEM 외의 다른 전공은 그 표본의 수가 적기때문에, 큰 의미를 찾기 어렵다고 판단하였습니다. 따라서 모든 범주를 라벨링하기보다는 **'is_STEM'이라는 컬럼을 추가하여, STEM 전공인 경우 1의 값을 그 외의 전공인 경우 0의 값을 갖도록 처리**하였습니다."
   ]
  },
  {
   "cell_type": "code",
   "execution_count": 421,
   "id": "050a2f0d",
   "metadata": {
    "ExecuteTime": {
     "end_time": "2022-05-21T19:31:40.819864Z",
     "start_time": "2022-05-21T19:31:40.804894Z"
    }
   },
   "outputs": [],
   "source": [
    "df['is_STEM'] = df['major_discipline'].apply(lambda x:1 if x=='STEM' else 0)"
   ]
  },
  {
   "cell_type": "markdown",
   "id": "29b247eb",
   "metadata": {},
   "source": [
    "우선적으로 is_STEM에서는 결측치 역시 0의 값을 갖도록 되어있습니다. 하지만 별다른 근거 없이 0으로 처리하는 것은 좋지 않은 방법이라 생각합니다. 따라서 major_discipline이 결측치인 행들의 학력(education_level)을 확인해보겠습니다."
   ]
  },
  {
   "cell_type": "code",
   "execution_count": 422,
   "id": "69d07222",
   "metadata": {
    "ExecuteTime": {
     "end_time": "2022-05-21T19:31:40.835812Z",
     "start_time": "2022-05-21T19:31:40.820853Z"
    }
   },
   "outputs": [
    {
     "data": {
      "text/plain": [
       "2.0    2017\n",
       "3.0     482\n",
       "1.0     308\n",
       "4.0       6\n",
       "Name: education_level, dtype: int64"
      ]
     },
     "execution_count": 422,
     "metadata": {},
     "output_type": "execute_result"
    }
   ],
   "source": [
    "cond = df['major_discipline'].isna()\n",
    "df[cond]['education_level'].value_counts()"
   ]
  },
  {
   "cell_type": "markdown",
   "id": "c16641b9",
   "metadata": {},
   "source": [
    "위의 출력값에서 1과 2는 각각 Primary School과 High School을 가리킵니다. 즉 **전공이 존재하지 않는 것**입니다. 따라서 이 값들은 그대로 **is_STEM을 0으로 처리**해도 될 것 같습니다.\n",
    "\n",
    "하지만 학력이 3과 4의 값을 갖는 경우에는 학사 혹은 석사로 전공을 0으로 처리하는 것이 좋은 방법은 아닌 것 같습니다. 따라서 education_level이 3과 4의 값을 갖는, 즉 **최종 학력이 학사 혹은 석사인 경우에는 최빈값인 STEM 전공일 것이라 가정하고 is_STEM을 1로 처리**하겠습니다."
   ]
  },
  {
   "cell_type": "code",
   "execution_count": 423,
   "id": "0624bcf2",
   "metadata": {
    "ExecuteTime": {
     "end_time": "2022-05-21T19:31:40.851770Z",
     "start_time": "2022-05-21T19:31:40.836809Z"
    }
   },
   "outputs": [],
   "source": [
    "cond1 = df['major_discipline'].isna()\n",
    "cond2 = ((df['education_level']==3) | (df['education_level']==4))\n",
    "df[cond1 & cond2]['is_STEM'] = 1"
   ]
  },
  {
   "cell_type": "code",
   "execution_count": 424,
   "id": "e6d7d9b6",
   "metadata": {
    "ExecuteTime": {
     "end_time": "2022-05-21T19:31:40.867726Z",
     "start_time": "2022-05-21T19:31:40.853765Z"
    }
   },
   "outputs": [],
   "source": [
    "df = df.drop('major_discipline', axis=1)"
   ]
  },
  {
   "cell_type": "markdown",
   "id": "1b286baf",
   "metadata": {},
   "source": [
    "인코딩과 결측치 처리가 완료되었으므로 major_discipline 컬럼은 드랍합니다."
   ]
  },
  {
   "cell_type": "markdown",
   "id": "c8115ef0",
   "metadata": {},
   "source": [
    "## 1.8. experience\n",
    "- Total experience in years"
   ]
  },
  {
   "cell_type": "code",
   "execution_count": 425,
   "id": "3f4dda1c",
   "metadata": {
    "ExecuteTime": {
     "end_time": "2022-05-21T19:31:40.883685Z",
     "start_time": "2022-05-21T19:31:40.869721Z"
    }
   },
   "outputs": [
    {
     "name": "stdout",
     "output_type": "stream",
     "text": [
      "유일값 개수 : 22\n",
      "결측치 개수 : 65\n",
      "\n",
      "### value counts ###\n",
      ">20    3286\n",
      "5      1430\n",
      "4      1403\n",
      "3      1354\n",
      "6      1216\n",
      "2      1127\n",
      "7      1028\n",
      "10      985\n",
      "9       980\n",
      "8       802\n",
      "15      686\n",
      "11      664\n",
      "14      586\n",
      "1       549\n",
      "<1      522\n",
      "16      508\n",
      "12      494\n",
      "13      399\n",
      "17      342\n",
      "19      304\n",
      "18      280\n",
      "20      148\n",
      "Name: experience, dtype: int64\n"
     ]
    }
   ],
   "source": [
    "check_cat(df['experience'])"
   ]
  },
  {
   "cell_type": "markdown",
   "id": "bdf7f960",
   "metadata": {},
   "source": [
    "마치 수치형 변수인 것처럼 보이지만 1보다 작은 값이 <1로 입력되어있고, 20보다 큰 값은 >20으로 입력되어있어 check_cat() 함수를 이용하였습니다.\n",
    "\n",
    "experience는 65개의 **결측치**를 갖고 있으며, 역시 **문자형을 수치형으로 변환**하는 작업이 필요합니다."
   ]
  },
  {
   "cell_type": "code",
   "execution_count": 426,
   "id": "2096111c",
   "metadata": {
    "ExecuteTime": {
     "end_time": "2022-05-21T19:31:40.899641Z",
     "start_time": "2022-05-21T19:31:40.886677Z"
    }
   },
   "outputs": [],
   "source": [
    "df['experience'] = df['experience'].apply(lambda x: 21 if x=='>20'\n",
    "                                         else 0 if x=='<1'\n",
    "                                          else x)\n",
    "df['experience'] = df['experience'].astype(float)"
   ]
  },
  {
   "cell_type": "markdown",
   "id": "b0fcdefe",
   "metadata": {},
   "source": [
    "먼저 값들을 수치형으로 바꾸는 작업부터 진행하였습니다. 단순하게 '>20'의 값들은 21로 '<1'의 값들은 0으로 바꾸었으며, 그 외의 값들은 기존의 값을 유지하고 이를 수치형으로 변환하였습니다."
   ]
  },
  {
   "cell_type": "code",
   "execution_count": 427,
   "id": "e2c80a23",
   "metadata": {
    "ExecuteTime": {
     "end_time": "2022-05-21T19:31:41.276632Z",
     "start_time": "2022-05-21T19:31:40.901637Z"
    },
    "scrolled": false
   },
   "outputs": [
    {
     "data": {
      "image/png": "[encoded data removed]",
      "text/plain": [
       "<Figure size 864x504 with 2 Axes>"
      ]
     },
     "metadata": {
      "needs_background": "light"
     },
     "output_type": "display_data"
    }
   ],
   "source": [
    "temp = pd.DataFrame(df.groupby('experience').mean()['target'])\n",
    "\n",
    "fig, ax1 = plt.subplots(figsize=(12, 7))\n",
    "ax1.plot()\n",
    "sns.countplot(x='experience', hue='target', data=df)\n",
    "plt.legend(labels=['Not looking for job change', 'Looking for a job change'], fontsize=13, loc='upper center')\n",
    "plt.xlabel('experience', fontsize=13)\n",
    "plt.ylabel('count', fontsize=13)\n",
    "plt.xticks(fontsize = 12)\n",
    "plt.yticks(fontsize = 12)\n",
    "\n",
    "ax2 = ax1.twinx()\n",
    "ax2.plot(temp['target'], 'r--o')\n",
    "plt.legend(labels=['target ratio'], fontsize=13, loc=(0.345, 0.8))\n",
    "plt.ylabel('ratio', fontsize=13)\n",
    "plt.yticks(fontsize = 12)\n",
    "\n",
    "plt.title('experience에 따른 전직 희망 분포', fontsize=20)\n",
    "plt.show()"
   ]
  },
  {
   "cell_type": "markdown",
   "id": "400af330",
   "metadata": {},
   "source": [
    "위의 그래프는 experience에 따른 전직 희망 분포와 전직 희망 비율을 나타냅니다. 그래프를 통해 **경력이 길수록 전직을 희망하는 비율이 낮아지는 것을 확인**할 수 있습니다. 이에 대해 상관계수를 한 번 계산해보도록 하겠습니다."
   ]
  },
  {
   "cell_type": "code",
   "execution_count": 428,
   "id": "2b149676",
   "metadata": {
    "ExecuteTime": {
     "end_time": "2022-05-21T19:31:41.292591Z",
     "start_time": "2022-05-21T19:31:41.277630Z"
    }
   },
   "outputs": [
    {
     "name": "stdout",
     "output_type": "stream",
     "text": [
      "상관계수 : -0.90, p-val : 1.7856749514276456e-08\n"
     ]
    }
   ],
   "source": [
    "import scipy.stats as stats\n",
    "\n",
    "rho, p_val = stats.pearsonr(temp.index, temp['target'])\n",
    "print(f'상관계수 : {rho:.2f}, p-val : {p_val}')"
   ]
  },
  {
   "cell_type": "markdown",
   "id": "5e81a285",
   "metadata": {},
   "source": [
    "통계적으로 확인하기 위해 pearson 상관 분석을 실시한 결과, 도시별 발전지수와 전직 희망 비율의 상관계수가 -0.9로 유의수준 0.01에서 아주 강한 음의 상관관계를 보였습니다. 즉 **경력이 길수록 전직을 고려하는 비율이 낮다**고 할 수 있습니다.\n",
    "\n",
    "이어서 결측치 처리를 진행하였습니다."
   ]
  },
  {
   "cell_type": "code",
   "execution_count": 429,
   "id": "e0c2e936",
   "metadata": {
    "ExecuteTime": {
     "end_time": "2022-05-21T19:31:41.324505Z",
     "start_time": "2022-05-21T19:31:41.293587Z"
    },
    "scrolled": true
   },
   "outputs": [
    {
     "data": {
      "text/html": [
       "<div>\n",
       "<style scoped>\n",
       "    .dataframe tbody tr th:only-of-type {\n",
       "        vertical-align: middle;\n",
       "    }\n",
       "\n",
       "    .dataframe tbody tr th {\n",
       "        vertical-align: top;\n",
       "    }\n",
       "\n",
       "    .dataframe thead th {\n",
       "        text-align: right;\n",
       "    }\n",
       "</style>\n",
       "<table border=\"1\" class=\"dataframe\">\n",
       "  <thead>\n",
       "    <tr style=\"text-align: right;\">\n",
       "      <th></th>\n",
       "      <th>city_development_index</th>\n",
       "      <th>relevent_experience</th>\n",
       "      <th>education_level</th>\n",
       "      <th>experience</th>\n",
       "      <th>company_size</th>\n",
       "      <th>company_type</th>\n",
       "      <th>last_new_job</th>\n",
       "      <th>training_hours</th>\n",
       "      <th>target</th>\n",
       "      <th>gender_M</th>\n",
       "      <th>gender_F</th>\n",
       "      <th>enrolled_university_Full time course</th>\n",
       "      <th>enrolled_university_Part time course</th>\n",
       "      <th>enrolled_university_no_enrollment</th>\n",
       "      <th>is_STEM</th>\n",
       "    </tr>\n",
       "  </thead>\n",
       "  <tbody>\n",
       "    <tr>\n",
       "      <th>135</th>\n",
       "      <td>0.920</td>\n",
       "      <td>0</td>\n",
       "      <td>5.0</td>\n",
       "      <td>NaN</td>\n",
       "      <td>NaN</td>\n",
       "      <td>NaN</td>\n",
       "      <td>NaN</td>\n",
       "      <td>70</td>\n",
       "      <td>0.0</td>\n",
       "      <td>0</td>\n",
       "      <td>0</td>\n",
       "      <td>0</td>\n",
       "      <td>0</td>\n",
       "      <td>1</td>\n",
       "      <td>1</td>\n",
       "    </tr>\n",
       "    <tr>\n",
       "      <th>391</th>\n",
       "      <td>0.698</td>\n",
       "      <td>1</td>\n",
       "      <td>4.0</td>\n",
       "      <td>NaN</td>\n",
       "      <td>NaN</td>\n",
       "      <td>NaN</td>\n",
       "      <td>NaN</td>\n",
       "      <td>44</td>\n",
       "      <td>1.0</td>\n",
       "      <td>1</td>\n",
       "      <td>0</td>\n",
       "      <td>1</td>\n",
       "      <td>0</td>\n",
       "      <td>0</td>\n",
       "      <td>0</td>\n",
       "    </tr>\n",
       "    <tr>\n",
       "      <th>1589</th>\n",
       "      <td>0.698</td>\n",
       "      <td>0</td>\n",
       "      <td>3.0</td>\n",
       "      <td>NaN</td>\n",
       "      <td>NaN</td>\n",
       "      <td>NaN</td>\n",
       "      <td>never</td>\n",
       "      <td>33</td>\n",
       "      <td>0.0</td>\n",
       "      <td>0</td>\n",
       "      <td>0</td>\n",
       "      <td>0</td>\n",
       "      <td>0</td>\n",
       "      <td>1</td>\n",
       "      <td>0</td>\n",
       "    </tr>\n",
       "    <tr>\n",
       "      <th>2727</th>\n",
       "      <td>0.920</td>\n",
       "      <td>1</td>\n",
       "      <td>4.0</td>\n",
       "      <td>NaN</td>\n",
       "      <td>NaN</td>\n",
       "      <td>NaN</td>\n",
       "      <td>NaN</td>\n",
       "      <td>70</td>\n",
       "      <td>0.0</td>\n",
       "      <td>0</td>\n",
       "      <td>0</td>\n",
       "      <td>0</td>\n",
       "      <td>0</td>\n",
       "      <td>1</td>\n",
       "      <td>1</td>\n",
       "    </tr>\n",
       "    <tr>\n",
       "      <th>2859</th>\n",
       "      <td>0.920</td>\n",
       "      <td>0</td>\n",
       "      <td>3.0</td>\n",
       "      <td>NaN</td>\n",
       "      <td>10/49</td>\n",
       "      <td>NaN</td>\n",
       "      <td>1</td>\n",
       "      <td>41</td>\n",
       "      <td>1.0</td>\n",
       "      <td>0</td>\n",
       "      <td>0</td>\n",
       "      <td>1</td>\n",
       "      <td>0</td>\n",
       "      <td>0</td>\n",
       "      <td>1</td>\n",
       "    </tr>\n",
       "    <tr>\n",
       "      <th>...</th>\n",
       "      <td>...</td>\n",
       "      <td>...</td>\n",
       "      <td>...</td>\n",
       "      <td>...</td>\n",
       "      <td>...</td>\n",
       "      <td>...</td>\n",
       "      <td>...</td>\n",
       "      <td>...</td>\n",
       "      <td>...</td>\n",
       "      <td>...</td>\n",
       "      <td>...</td>\n",
       "      <td>...</td>\n",
       "      <td>...</td>\n",
       "      <td>...</td>\n",
       "      <td>...</td>\n",
       "    </tr>\n",
       "    <tr>\n",
       "      <th>18039</th>\n",
       "      <td>0.624</td>\n",
       "      <td>1</td>\n",
       "      <td>4.0</td>\n",
       "      <td>NaN</td>\n",
       "      <td>5000-9999</td>\n",
       "      <td>NaN</td>\n",
       "      <td>1</td>\n",
       "      <td>13</td>\n",
       "      <td>1.0</td>\n",
       "      <td>0</td>\n",
       "      <td>0</td>\n",
       "      <td>0</td>\n",
       "      <td>0</td>\n",
       "      <td>1</td>\n",
       "      <td>1</td>\n",
       "    </tr>\n",
       "    <tr>\n",
       "      <th>18055</th>\n",
       "      <td>0.698</td>\n",
       "      <td>1</td>\n",
       "      <td>3.0</td>\n",
       "      <td>NaN</td>\n",
       "      <td>10/49</td>\n",
       "      <td>NaN</td>\n",
       "      <td>1</td>\n",
       "      <td>51</td>\n",
       "      <td>1.0</td>\n",
       "      <td>0</td>\n",
       "      <td>0</td>\n",
       "      <td>0</td>\n",
       "      <td>0</td>\n",
       "      <td>0</td>\n",
       "      <td>0</td>\n",
       "    </tr>\n",
       "    <tr>\n",
       "      <th>18143</th>\n",
       "      <td>0.624</td>\n",
       "      <td>1</td>\n",
       "      <td>3.0</td>\n",
       "      <td>NaN</td>\n",
       "      <td>10/49</td>\n",
       "      <td>NaN</td>\n",
       "      <td>NaN</td>\n",
       "      <td>182</td>\n",
       "      <td>1.0</td>\n",
       "      <td>0</td>\n",
       "      <td>0</td>\n",
       "      <td>0</td>\n",
       "      <td>0</td>\n",
       "      <td>1</td>\n",
       "      <td>1</td>\n",
       "    </tr>\n",
       "    <tr>\n",
       "      <th>18790</th>\n",
       "      <td>0.926</td>\n",
       "      <td>1</td>\n",
       "      <td>3.0</td>\n",
       "      <td>NaN</td>\n",
       "      <td>50-99</td>\n",
       "      <td>NGO</td>\n",
       "      <td>1</td>\n",
       "      <td>138</td>\n",
       "      <td>0.0</td>\n",
       "      <td>0</td>\n",
       "      <td>0</td>\n",
       "      <td>0</td>\n",
       "      <td>0</td>\n",
       "      <td>0</td>\n",
       "      <td>1</td>\n",
       "    </tr>\n",
       "    <tr>\n",
       "      <th>19025</th>\n",
       "      <td>0.698</td>\n",
       "      <td>0</td>\n",
       "      <td>3.0</td>\n",
       "      <td>NaN</td>\n",
       "      <td>NaN</td>\n",
       "      <td>NaN</td>\n",
       "      <td>never</td>\n",
       "      <td>106</td>\n",
       "      <td>0.0</td>\n",
       "      <td>0</td>\n",
       "      <td>0</td>\n",
       "      <td>0</td>\n",
       "      <td>0</td>\n",
       "      <td>1</td>\n",
       "      <td>0</td>\n",
       "    </tr>\n",
       "  </tbody>\n",
       "</table>\n",
       "<p>65 rows × 15 columns</p>\n",
       "</div>"
      ],
      "text/plain": [
       "       city_development_index  relevent_experience  education_level  \\\n",
       "135                     0.920                    0              5.0   \n",
       "391                     0.698                    1              4.0   \n",
       "1589                    0.698                    0              3.0   \n",
       "2727                    0.920                    1              4.0   \n",
       "2859                    0.920                    0              3.0   \n",
       "...                       ...                  ...              ...   \n",
       "18039                   0.624                    1              4.0   \n",
       "18055                   0.698                    1              3.0   \n",
       "18143                   0.624                    1              3.0   \n",
       "18790                   0.926                    1              3.0   \n",
       "19025                   0.698                    0              3.0   \n",
       "\n",
       "       experience company_size company_type last_new_job  training_hours  \\\n",
       "135           NaN          NaN          NaN          NaN              70   \n",
       "391           NaN          NaN          NaN          NaN              44   \n",
       "1589          NaN          NaN          NaN        never              33   \n",
       "2727          NaN          NaN          NaN          NaN              70   \n",
       "2859          NaN        10/49          NaN            1              41   \n",
       "...           ...          ...          ...          ...             ...   \n",
       "18039         NaN    5000-9999          NaN            1              13   \n",
       "18055         NaN        10/49          NaN            1              51   \n",
       "18143         NaN        10/49          NaN          NaN             182   \n",
       "18790         NaN        50-99          NGO            1             138   \n",
       "19025         NaN          NaN          NaN        never             106   \n",
       "\n",
       "       target  gender_M  gender_F  enrolled_university_Full time course  \\\n",
       "135       0.0         0         0                                     0   \n",
       "391       1.0         1         0                                     1   \n",
       "1589      0.0         0         0                                     0   \n",
       "2727      0.0         0         0                                     0   \n",
       "2859      1.0         0         0                                     1   \n",
       "...       ...       ...       ...                                   ...   \n",
       "18039     1.0         0         0                                     0   \n",
       "18055     1.0         0         0                                     0   \n",
       "18143     1.0         0         0                                     0   \n",
       "18790     0.0         0         0                                     0   \n",
       "19025     0.0         0         0                                     0   \n",
       "\n",
       "       enrolled_university_Part time course  \\\n",
       "135                                       0   \n",
       "391                                       0   \n",
       "1589                                      0   \n",
       "2727                                      0   \n",
       "2859                                      0   \n",
       "...                                     ...   \n",
       "18039                                     0   \n",
       "18055                                     0   \n",
       "18143                                     0   \n",
       "18790                                     0   \n",
       "19025                                     0   \n",
       "\n",
       "       enrolled_university_no_enrollment  is_STEM  \n",
       "135                                    1        1  \n",
       "391                                    0        0  \n",
       "1589                                   1        0  \n",
       "2727                                   1        1  \n",
       "2859                                   0        1  \n",
       "...                                  ...      ...  \n",
       "18039                                  1        1  \n",
       "18055                                  0        0  \n",
       "18143                                  1        1  \n",
       "18790                                  0        1  \n",
       "19025                                  1        0  \n",
       "\n",
       "[65 rows x 15 columns]"
      ]
     },
     "execution_count": 429,
     "metadata": {},
     "output_type": "execute_result"
    }
   ],
   "source": [
    "df[df['experience'].isna()]"
   ]
  },
  {
   "cell_type": "markdown",
   "id": "b1b925b3",
   "metadata": {},
   "source": [
    "experience의 값이 없는 행을 간단하게 살펴보면 **다른 컬럼에서도 동일하게 결측치**가 나타납니다. 이를 통해 본 데이터에서의 결측치는 **응답 거부** 혹은 **정보 활용 거부** 등으로 인해 발생하였을 것이라 추측할 수 있습니다.\n",
    "\n",
    "experience의 경우 다른 컬럼에 비해 결측치가 65개로 적기때문에, 결측치를 처리하기보다는 **결측이 존재하는 행을 삭제**하는 방식을 채택하였습니다."
   ]
  },
  {
   "cell_type": "code",
   "execution_count": 430,
   "id": "9a9df95d",
   "metadata": {
    "ExecuteTime": {
     "end_time": "2022-05-21T19:31:41.339465Z",
     "start_time": "2022-05-21T19:31:41.325502Z"
    }
   },
   "outputs": [],
   "source": [
    "df = df.dropna(axis=0, subset=['experience'])"
   ]
  },
  {
   "cell_type": "markdown",
   "id": "4017c5ec",
   "metadata": {},
   "source": [
    "## 1.9. company_size"
   ]
  },
  {
   "cell_type": "markdown",
   "id": "f0791a87",
   "metadata": {},
   "source": [
    "- Number of employees in current employer's company"
   ]
  },
  {
   "cell_type": "code",
   "execution_count": 431,
   "id": "dfc0799b",
   "metadata": {
    "ExecuteTime": {
     "end_time": "2022-05-21T19:31:41.359411Z",
     "start_time": "2022-05-21T19:31:41.340462Z"
    }
   },
   "outputs": [
    {
     "name": "stdout",
     "output_type": "stream",
     "text": [
      "유일값 개수 : 8\n",
      "결측치 개수 : 5915\n",
      "\n",
      "### value counts ###\n",
      "50-99        3078\n",
      "100-500      2563\n",
      "10000+       2011\n",
      "10/49        1466\n",
      "1000-4999    1323\n",
      "<10          1304\n",
      "500-999       874\n",
      "5000-9999     559\n",
      "Name: company_size, dtype: int64\n"
     ]
    }
   ],
   "source": [
    "check_cat(df['company_size'])"
   ]
  },
  {
   "cell_type": "markdown",
   "id": "f373b781",
   "metadata": {
    "ExecuteTime": {
     "end_time": "2022-05-21T18:07:45.067543Z",
     "start_time": "2022-05-21T18:07:45.058539Z"
    }
   },
   "source": [
    "company_size 역시 **결측치 처리**와 **수치형으로의 변환**이 필요합니다.\n",
    "\n",
    "size는 범주에 따른 서열이 존재하므로 레이블 인코딩을 실시합니다. 원본 데이터가 범위로 주어져있기 때문에 그 값들의 중간값으로 수치화할 수 있지만, **다른 컬럼들과 scale을 맞추기 위해서 1~8사이의 값으로 변환**하였습니다."
   ]
  },
  {
   "cell_type": "code",
   "execution_count": 432,
   "id": "ee8d9a7b",
   "metadata": {
    "ExecuteTime": {
     "end_time": "2022-05-21T19:31:41.386340Z",
     "start_time": "2022-05-21T19:31:41.369387Z"
    }
   },
   "outputs": [],
   "source": [
    "comp_size = {'<10' : 1, '10/49' : 2, '50-99' : 3, \n",
    "            '100-500' : 4, '500-999' : 5, '1000-4999' :6,\n",
    "            '5000-9999' : 7, '10000+' : 8}\n",
    "\n",
    "df['company_size'] = df['company_size'].apply(lambda x: comp_size.get(x, x))"
   ]
  },
  {
   "cell_type": "markdown",
   "id": "864cd907",
   "metadata": {},
   "source": [
    "이어서 결측치 처리를 진행합니다. company_size의 결측치는 약 6천 개로 그 개수가 적지 않습니다. 이는 응답자가 답변을 하지 않은 경우일수도 있고, 현재 직장이 없어서 답할 수 없는 경우일수도 있습니다. 전자의 경우 1~8사이의 값으로 대체해야할 것이며 전자의 경우 0으로 대체해야할 것입니다. 하지만, 본 데이터에서는 둘 중 어디에 속하는지를 확실하게 구분할 근거가 없었습니다. 따라서 **결측치는 단순히 0으로 대체**하는 방식을 채택하였습니다."
   ]
  },
  {
   "cell_type": "code",
   "execution_count": 433,
   "id": "c8d56308",
   "metadata": {
    "ExecuteTime": {
     "end_time": "2022-05-21T19:31:41.402297Z",
     "start_time": "2022-05-21T19:31:41.389332Z"
    }
   },
   "outputs": [
    {
     "data": {
      "text/plain": [
       "0"
      ]
     },
     "execution_count": 433,
     "metadata": {},
     "output_type": "execute_result"
    }
   ],
   "source": [
    "df['company_size'] = df['company_size'].fillna(0)\n",
    "df['company_size'].isna().sum()"
   ]
  },
  {
   "cell_type": "markdown",
   "id": "fbbb8b0e",
   "metadata": {},
   "source": [
    "## 1.10. company_type"
   ]
  },
  {
   "cell_type": "markdown",
   "id": "ca65ff06",
   "metadata": {},
   "source": [
    "- type of current employer"
   ]
  },
  {
   "cell_type": "code",
   "execution_count": 434,
   "id": "b58a7380",
   "metadata": {
    "ExecuteTime": {
     "end_time": "2022-05-21T19:31:41.418284Z",
     "start_time": "2022-05-21T19:31:41.403294Z"
    }
   },
   "outputs": [
    {
     "name": "stdout",
     "output_type": "stream",
     "text": [
      "유일값 개수 : 6\n",
      "결측치 개수 : 6104\n",
      "\n",
      "### value counts ###\n",
      "Pvt Ltd                9796\n",
      "Funded Startup          999\n",
      "Public Sector           953\n",
      "Early Stage Startup     601\n",
      "NGO                     519\n",
      "Other                   121\n",
      "Name: company_type, dtype: int64\n"
     ]
    }
   ],
   "source": [
    "check_cat(df['company_type'])"
   ]
  },
  {
   "cell_type": "markdown",
   "id": "286ade8e",
   "metadata": {},
   "source": [
    "결측치 처리와 문자형 변수를 수치화하는 작업이 필요합니다. 그리고 Pvt Ltd가 압도적으로 많은 것(전체의 약 50%)을 확인할 수 있었습니다."
   ]
  },
  {
   "cell_type": "code",
   "execution_count": 435,
   "id": "862d45a1",
   "metadata": {
    "ExecuteTime": {
     "end_time": "2022-05-21T19:31:41.623705Z",
     "start_time": "2022-05-21T19:31:41.419251Z"
    }
   },
   "outputs": [
    {
     "data": {
      "image/png": "[encoded data removed]",
      "text/plain": [
       "<Figure size 576x360 with 1 Axes>"
      ]
     },
     "metadata": {
      "needs_background": "light"
     },
     "output_type": "display_data"
    },
    {
     "data": {
      "text/html": [
       "<div>\n",
       "<style scoped>\n",
       "    .dataframe tbody tr th:only-of-type {\n",
       "        vertical-align: middle;\n",
       "    }\n",
       "\n",
       "    .dataframe tbody tr th {\n",
       "        vertical-align: top;\n",
       "    }\n",
       "\n",
       "    .dataframe thead th {\n",
       "        text-align: right;\n",
       "    }\n",
       "</style>\n",
       "<table border=\"1\" class=\"dataframe\">\n",
       "  <thead>\n",
       "    <tr style=\"text-align: right;\">\n",
       "      <th></th>\n",
       "      <th>target</th>\n",
       "    </tr>\n",
       "    <tr>\n",
       "      <th>company_type</th>\n",
       "      <th></th>\n",
       "    </tr>\n",
       "  </thead>\n",
       "  <tbody>\n",
       "    <tr>\n",
       "      <th>Early Stage Startup</th>\n",
       "      <td>0.234609</td>\n",
       "    </tr>\n",
       "    <tr>\n",
       "      <th>Funded Startup</th>\n",
       "      <td>0.140140</td>\n",
       "    </tr>\n",
       "    <tr>\n",
       "      <th>NGO</th>\n",
       "      <td>0.184971</td>\n",
       "    </tr>\n",
       "    <tr>\n",
       "      <th>Other</th>\n",
       "      <td>0.239669</td>\n",
       "    </tr>\n",
       "    <tr>\n",
       "      <th>Public Sector</th>\n",
       "      <td>0.220357</td>\n",
       "    </tr>\n",
       "    <tr>\n",
       "      <th>Pvt Ltd</th>\n",
       "      <td>0.180584</td>\n",
       "    </tr>\n",
       "  </tbody>\n",
       "</table>\n",
       "</div>"
      ],
      "text/plain": [
       "                       target\n",
       "company_type                 \n",
       "Early Stage Startup  0.234609\n",
       "Funded Startup       0.140140\n",
       "NGO                  0.184971\n",
       "Other                0.239669\n",
       "Public Sector        0.220357\n",
       "Pvt Ltd              0.180584"
      ]
     },
     "execution_count": 435,
     "metadata": {},
     "output_type": "execute_result"
    }
   ],
   "source": [
    "plot_cat('company_type')"
   ]
  },
  {
   "cell_type": "markdown",
   "id": "efe3a198",
   "metadata": {},
   "source": [
    "범주별로 전직 희망 비율에 대해 큰 인사이트는 찾을 수 없었습니다. 또한 Pvt Ltd를 제외한 경우에는 표본도 적어서 유의미한 분석이 어렵습니다. \n",
    "\n",
    "company_type의 경우, 결측치가 6000개로 전체 데이터의 30%로 많은 부분을 차지하고 있으며 그 외에는 Pvt Ltd가 50%를 차지하고 있기때문에, 결측치를 대체하기 보다는 컬럼을 삭제하는 것이 도움이 될 것이라 판단하여 컬럼을 삭제하였습니다."
   ]
  },
  {
   "cell_type": "code",
   "execution_count": 436,
   "id": "c5b6507c",
   "metadata": {
    "ExecuteTime": {
     "end_time": "2022-05-21T19:31:41.639663Z",
     "start_time": "2022-05-21T19:31:41.626698Z"
    }
   },
   "outputs": [],
   "source": [
    "df = df.drop('company_type', axis=1)"
   ]
  },
  {
   "cell_type": "markdown",
   "id": "8b77f39d",
   "metadata": {},
   "source": [
    "## 1.11. last_new_job"
   ]
  },
  {
   "cell_type": "markdown",
   "id": "35f02a0f",
   "metadata": {},
   "source": [
    "- Difference in years between previous job and current job"
   ]
  },
  {
   "cell_type": "code",
   "execution_count": 437,
   "id": "ddf43925",
   "metadata": {
    "ExecuteTime": {
     "end_time": "2022-05-21T19:31:41.655618Z",
     "start_time": "2022-05-21T19:31:41.642656Z"
    }
   },
   "outputs": [
    {
     "name": "stdout",
     "output_type": "stream",
     "text": [
      "유일값 개수 : 6\n",
      "결측치 개수 : 399\n",
      "\n",
      "### value counts ###\n",
      "1        8019\n",
      ">4       3283\n",
      "2        2897\n",
      "never    2444\n",
      "4        1028\n",
      "3        1023\n",
      "Name: last_new_job, dtype: int64\n"
     ]
    }
   ],
   "source": [
    "check_cat(df['last_new_job'])"
   ]
  },
  {
   "cell_type": "markdown",
   "id": "e2ef83c6",
   "metadata": {},
   "source": [
    "다른 컬럼들과 동일하게 결측치 처리와 수치형 변수로의 변환이 필요합니다. experience와 동일한 방식으로 'never'은 0으로 '>4'는 5로 변환하여 수치형 변수로 바꾸도록 하겠습니다."
   ]
  },
  {
   "cell_type": "code",
   "execution_count": 438,
   "id": "0176d846",
   "metadata": {
    "ExecuteTime": {
     "end_time": "2022-05-21T19:31:41.671576Z",
     "start_time": "2022-05-21T19:31:41.656617Z"
    }
   },
   "outputs": [],
   "source": [
    "df['last_new_job'] = df['last_new_job'].apply(lambda x: 5 if x =='>4'\n",
    "                                             else 0 if x=='never'\n",
    "                                              else x)\n",
    "df['last_new_job'] = df['last_new_job'].astype(float)"
   ]
  },
  {
   "cell_type": "markdown",
   "id": "64e4c759",
   "metadata": {},
   "source": [
    "이어서 결측치 처리가 필요하지만, last_new_job의 경우 결측치가 많지 않기에 행을 지우기로 하였습니다."
   ]
  },
  {
   "cell_type": "code",
   "execution_count": 439,
   "id": "cd1305c3",
   "metadata": {
    "ExecuteTime": {
     "end_time": "2022-05-21T19:31:41.687534Z",
     "start_time": "2022-05-21T19:31:41.672576Z"
    }
   },
   "outputs": [],
   "source": [
    "df = df.dropna(axis=0, subset=['last_new_job'])"
   ]
  },
  {
   "cell_type": "markdown",
   "id": "8a840f96",
   "metadata": {},
   "source": [
    "## 1.12. training_hours"
   ]
  },
  {
   "cell_type": "markdown",
   "id": "9c873e41",
   "metadata": {},
   "source": [
    "- training hours completed"
   ]
  },
  {
   "cell_type": "code",
   "execution_count": 440,
   "id": "5fb20a4b",
   "metadata": {
    "ExecuteTime": {
     "end_time": "2022-05-21T19:31:41.703491Z",
     "start_time": "2022-05-21T19:31:41.689528Z"
    }
   },
   "outputs": [
    {
     "name": "stdout",
     "output_type": "stream",
     "text": [
      "결측치 개수 : 0\n",
      "\n",
      "### describe ###\n",
      "count    18694.000000\n",
      "mean        65.471488\n",
      "std         60.100561\n",
      "min          1.000000\n",
      "25%         23.000000\n",
      "50%         47.000000\n",
      "75%         88.000000\n",
      "max        336.000000\n",
      "Name: training_hours, dtype: float64\n"
     ]
    }
   ],
   "source": [
    "check_cont(df['training_hours'])"
   ]
  },
  {
   "cell_type": "markdown",
   "id": "a2985214",
   "metadata": {},
   "source": [
    "training_hours에 결측치는 없었으며, 연속형 변수이기에 이상치가 존재하는지 확인해보겠습니다."
   ]
  },
  {
   "cell_type": "code",
   "execution_count": 441,
   "id": "13fb9029",
   "metadata": {
    "ExecuteTime": {
     "end_time": "2022-05-21T19:31:42.054551Z",
     "start_time": "2022-05-21T19:31:41.704488Z"
    }
   },
   "outputs": [
    {
     "data": {
      "image/png": "[encoded data removed]",
      "text/plain": [
       "<Figure size 864x360 with 2 Axes>"
      ]
     },
     "metadata": {
      "needs_background": "light"
     },
     "output_type": "display_data"
    }
   ],
   "source": [
    "plt.subplots(figsize=(12,5))\n",
    "plt.subplot(121)\n",
    "sns.boxplot('training_hours', data=df)\n",
    "plt.subplot(122)\n",
    "sns.distplot(df['training_hours'])\n",
    "plt.suptitle('training hours의 분포', fontsize=15)\n",
    "plt.show()"
   ]
  },
  {
   "cell_type": "markdown",
   "id": "04be509a",
   "metadata": {},
   "source": [
    "boxplot에서는 이상치가 있는 것처럼 보입니다. 하지만 **최댓값을 넘어서 데이터가 연속적으로 분포하기때문에, 따로 training_hours에 대한 이상치 처리는 실시하지 않았습니다.** 대신 데이터가 왼쪽으로 많이 치우쳐있습니다. 이를 해소하기 위해서 **log 변환**을 실시하였습니다. "
   ]
  },
  {
   "cell_type": "code",
   "execution_count": 442,
   "id": "0c4de86a",
   "metadata": {
    "ExecuteTime": {
     "end_time": "2022-05-21T19:31:42.277954Z",
     "start_time": "2022-05-21T19:31:42.056547Z"
    }
   },
   "outputs": [
    {
     "data": {
      "image/png": "[encoded data removed]",
      "text/plain": [
       "<Figure size 432x288 with 1 Axes>"
      ]
     },
     "metadata": {
      "needs_background": "light"
     },
     "output_type": "display_data"
    }
   ],
   "source": [
    "df['training_hours'] = np.log1p(df['training_hours'])\n",
    "sns.distplot(df['training_hours']);"
   ]
  },
  {
   "cell_type": "markdown",
   "id": "fcf4f787",
   "metadata": {},
   "source": [
    "로그 변환을 실시한 후 분포가 정규분포에 가까워진것을 확인할 수 있습니다."
   ]
  },
  {
   "cell_type": "markdown",
   "id": "889bc3f4",
   "metadata": {},
   "source": [
    "## 1.13. target"
   ]
  },
  {
   "cell_type": "markdown",
   "id": "f7cc090f",
   "metadata": {},
   "source": [
    "- 0 : Not looking for job change\n",
    "- 1 : Looking for a job change"
   ]
  },
  {
   "cell_type": "code",
   "execution_count": 443,
   "id": "3c2d28ec",
   "metadata": {
    "ExecuteTime": {
     "end_time": "2022-05-21T19:31:42.371703Z",
     "start_time": "2022-05-21T19:31:42.278951Z"
    }
   },
   "outputs": [
    {
     "data": {
      "text/plain": [
       "0.0    14087\n",
       "1.0     4607\n",
       "Name: target, dtype: int64"
      ]
     },
     "execution_count": 443,
     "metadata": {},
     "output_type": "execute_result"
    },
    {
     "data": {
      "image/png": "[encoded data removed]",
      "text/plain": [
       "<Figure size 432x288 with 1 Axes>"
      ]
     },
     "metadata": {
      "needs_background": "light"
     },
     "output_type": "display_data"
    }
   ],
   "source": [
    "sns.countplot(x='target', data=df);\n",
    "\n",
    "df['target'].value_counts()"
   ]
  },
  {
   "cell_type": "markdown",
   "id": "9fc5d188",
   "metadata": {},
   "source": [
    "마지막으로 종속변수인 target입니다. **전직을 고려하지 않고 있음을 의미하는 0에 데이터가 치우쳐있습니다.** 이와 같이 **imbalanced data**의 경우에는 예측을 진행할 때 **샘플링**을 적용해야할 수 있으며, 성과 측정 시에도 **성과 지표 선정에 유의**해야할 것입니다. 따라서 불균형 데이터라는 것을 인지한 상태로 전처리는 여기서 마무리하도록 하겠습니다. 다음 게시글에서는 전처리를 한 것을 바탕으로 분류 예측을 실시할 예정입니다."
   ]
  },
  {
   "cell_type": "code",
   "execution_count": 444,
   "id": "70d637c0",
   "metadata": {
    "ExecuteTime": {
     "end_time": "2022-05-21T19:32:30.565961Z",
     "start_time": "2022-05-21T19:32:29.490624Z"
    }
   },
   "outputs": [],
   "source": [
    "df.to_csv('df_processed.csv', index=False)"
   ]
  },
  {
   "cell_type": "markdown",
   "id": "062549f1",
   "metadata": {},
   "source": [
    "분류 예측을 이어서 진행하기 위해 전처리한 내용을 csv로 저장하였습니다."
   ]
  },
  {
   "cell_type": "markdown",
   "id": "d8d8e5bf",
   "metadata": {},
   "source": [
    "---"
   ]
  },
  {
   "cell_type": "markdown",
   "id": "524f49fa",
   "metadata": {},
   "source": [
    "이렇게 두 개의 게시글에 걸쳐 EDA와 전처리를 완료하였습니다. 매번 EDA에서 많은 인사이트를 도출하기위해 노력하지만, 습관이 되어있지 않아 쉬운 일이 아닌 것 같습니다. 이번에도 시각화가 부족한 것 같아 많은 아쉬움이 남습니다. 다음에는 시각화에도 조금 더 신경을 써야겠습니다.\n",
    "\n",
    "그리고 이번에는 처음으로 데이터 분석을 하며 통계 분석을 진행하였습니다. 하지만 통계에 대한 이론적 지식이 부족하여, 저에 분석이 제대로 된 분석인지에 대한 확신이 없습니다. 통계에 대해 다시 공부하는 시간을 가져야겠습니다.\n",
    "\n",
    "오늘도 저의 글을 읽어주셔서 감사합니다."
   ]
  },
  {
   "cell_type": "code",
   "execution_count": null,
   "id": "ba938e01",
   "metadata": {},
   "outputs": [],
   "source": []
  }
 ],
 "metadata": {
  "kernelspec": {
   "display_name": "Python 3 (ipykernel)",
   "language": "python",
   "name": "python3"
  },
  "language_info": {
   "codemirror_mode": {
    "name": "ipython",
    "version": 3
   },
   "file_extension": ".py",
   "mimetype": "text/x-python",
   "name": "python",
   "nbconvert_exporter": "python",
   "pygments_lexer": "ipython3",
   "version": "3.9.7"
  },
  "toc": {
   "base_numbering": 1,
   "nav_menu": {},
   "number_sections": false,
   "sideBar": true,
   "skip_h1_title": false,
   "title_cell": "Table of Contents",
   "title_sidebar": "Contents",
   "toc_cell": false,
   "toc_position": {
    "height": "492px",
    "left": "25px",
    "top": "141.143px",
    "width": "275px"
   },
   "toc_section_display": true,
   "toc_window_display": false
  },
  "varInspector": {
   "cols": {
    "lenName": 16,
    "lenType": 16,
    "lenVar": 40
   },
   "kernels_config": {
    "python": {
     "delete_cmd_postfix": "",
     "delete_cmd_prefix": "del ",
     "library": "var_list.py",
     "varRefreshCmd": "print(var_dic_list())"
    },
    "r": {
     "delete_cmd_postfix": ") ",
     "delete_cmd_prefix": "rm(",
     "library": "var_list.r",
     "varRefreshCmd": "cat(var_dic_list()) "
    }
   },
   "types_to_exclude": [
    "module",
    "function",
    "builtin_function_or_method",
    "instance",
    "_Feature"
   ],
   "window_display": false
  }
 },
 "nbformat": 4,
 "nbformat_minor": 5
}
