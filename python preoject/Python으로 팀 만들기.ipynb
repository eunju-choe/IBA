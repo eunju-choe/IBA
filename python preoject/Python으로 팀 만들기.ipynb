{
 "cells": [
  {
   "cell_type": "markdown",
   "id": "5fb15285",
   "metadata": {},
   "source": [
    "저번 포스팅에서는 Python을 이용한 사다리타기를 만들었습니다. 이번 게시글에서는 이어서 이름과 팀별 인원을 입력하면 랜덤하게 팀을 구성하는 프로그램을 구현해보겠습니다. 코딩 과정이 사다리타기와 유사하기 때문에, 간단하게 글을 한 번 써보도록 하겠습니다. 혹시나 설명이 부족한 부분이 있다면, [이전 게시글](https://eunju-choe.github.io/posts/2022-06-18-ghost%20leg)을 참고해주세요."
   ]
  },
  {
   "cell_type": "markdown",
   "id": "36613d7d",
   "metadata": {},
   "source": [
    "# Process 살펴보기"
   ]
  },
  {
   "cell_type": "markdown",
   "id": "ef8a1416",
   "metadata": {},
   "source": [
    "이번에도 프로세스를 먼저 살펴보겠습니다."
   ]
  },
  {
   "cell_type": "code",
   "execution_count": 1,
   "id": "c50dd9a7",
   "metadata": {},
   "outputs": [],
   "source": [
    "import random as rd\n",
    "import pandas as pd"
   ]
  },
  {
   "cell_type": "code",
   "execution_count": 2,
   "id": "a11c528c",
   "metadata": {},
   "outputs": [],
   "source": [
    "name_list = ['은주', '인혜', '일하', '동택']\n",
    "n_list = [2, 2]\n",
    "team_names = ['A팀', 'B팀']"
   ]
  },
  {
   "cell_type": "markdown",
   "id": "741b88fb",
   "metadata": {},
   "source": [
    "팀을 만들기 위해 입력값으로 이름 목록(name_list), 팀별 인원 목록(n_list), 팀 이름 목록(team_names) 세 가지를 입력받습니다. 이 중에서 team_names는 optional 입력값으로 둘 것입니다. 이번에도 함수를 구현할 때 고려해야할 점이 몇 가지 있습니다.\n",
    "- 입력값이 list가 아닌 경우\n",
    "- name_list의 개수와 n_list의 합이 일치하지 않는 경우\n",
    "- team_names의 길이와 n_list의 길이가 일치하지 않는 경우\n",
    "\n",
    "이 부분에 대해 기억하면서 함수를 코딩해야할 것입니다. 이제 입력받은 값을 바탕으로 팀을 구성합니다. name_list에서 n_list의 개수에 맞게 팀원을 랜덤하게 배정하는 것입니다."
   ]
  },
  {
   "cell_type": "code",
   "execution_count": 3,
   "id": "7a555d78",
   "metadata": {},
   "outputs": [
    {
     "data": {
      "text/plain": [
       "[[['인혜', '일하']], [['동택', '은주']]]"
      ]
     },
     "execution_count": 3,
     "metadata": {},
     "output_type": "execute_result"
    }
   ],
   "source": [
    "result = []\n",
    "for i in range(len(n_list)):\n",
    "    lists = []\n",
    "    for _ in range(n_list[i]):\n",
    "        pick = rd.choice(name_list)\n",
    "        name_list.remove(pick)\n",
    "        lists.append(pick)\n",
    "        \n",
    "    result.append([lists])\n",
    "result"
   ]
  },
  {
   "cell_type": "markdown",
   "id": "5b45a303",
   "metadata": {},
   "source": [
    "먼저 결과를 담을 result를 선언하고 반복문을 이용하여 팀원을 구성합니다."
   ]
  },
  {
   "cell_type": "markdown",
   "id": "72402cd1",
   "metadata": {},
   "source": [
    "첫 번째 반복문에서는 n_list의 길이(팀의 개수)만큼 반복하고, 두 번째 반복문에서는 n_list의 i번째 요소(팀의 인원 수)만큼 반복합니다. 반복문 안에서는 random.choice를 이용하여 이름 목록에 있는 값을 랜덤하게 하나 고르고, lists에 그 값을 저장한 뒤 추출된 이름은 이름 목록에서 제거합니다. 이 과정을 통해 매 팀마다 lists가 형성되고, 그 lists는 결과적으로 result에 저장됩니다."
   ]
  },
  {
   "cell_type": "markdown",
   "id": "b92ffbe3",
   "metadata": {},
   "source": [
    "이 때 result.append(lists)가 아닌 result.append(\\[lists\\])를 사용한 이유는, 최종 결과는 DataFrame의 형식으로 출력할 것인데 팀마다 인원이 다를 수 있기 때문에 편의상 list의 형태로 저장하는 것입니다."
   ]
  },
  {
   "cell_type": "code",
   "execution_count": 4,
   "id": "862aa6c9",
   "metadata": {},
   "outputs": [
    {
     "data": {
      "text/html": [
       "<div>\n",
       "<style scoped>\n",
       "    .dataframe tbody tr th:only-of-type {\n",
       "        vertical-align: middle;\n",
       "    }\n",
       "\n",
       "    .dataframe tbody tr th {\n",
       "        vertical-align: top;\n",
       "    }\n",
       "\n",
       "    .dataframe thead th {\n",
       "        text-align: right;\n",
       "    }\n",
       "</style>\n",
       "<table border=\"1\" class=\"dataframe\">\n",
       "  <thead>\n",
       "    <tr style=\"text-align: right;\">\n",
       "      <th></th>\n",
       "      <th>name</th>\n",
       "    </tr>\n",
       "  </thead>\n",
       "  <tbody>\n",
       "    <tr>\n",
       "      <th>A팀</th>\n",
       "      <td>[인혜, 일하]</td>\n",
       "    </tr>\n",
       "    <tr>\n",
       "      <th>B팀</th>\n",
       "      <td>[동택, 은주]</td>\n",
       "    </tr>\n",
       "  </tbody>\n",
       "</table>\n",
       "</div>"
      ],
      "text/plain": [
       "        name\n",
       "A팀  [인혜, 일하]\n",
       "B팀  [동택, 은주]"
      ]
     },
     "execution_count": 4,
     "metadata": {},
     "output_type": "execute_result"
    }
   ],
   "source": [
    "result = pd.DataFrame(result, index=team_names, columns=['name'])\n",
    "result"
   ]
  },
  {
   "cell_type": "markdown",
   "id": "ebcbf663",
   "metadata": {},
   "source": [
    "마지막으로 DataFrame으로 출력하였습니다."
   ]
  },
  {
   "cell_type": "markdown",
   "id": "7d55c913",
   "metadata": {},
   "source": [
    "# 함수 만들기"
   ]
  },
  {
   "cell_type": "markdown",
   "id": "1177f4b9",
   "metadata": {},
   "source": [
    "함수를 만들기 전에 고려해야할 것들을 다시 한 번 정리해보겠습니다.\n",
    "- 입력값이 list가 아닌 경우 : list로 입력하도록 경고 띄운 후 종료\n",
    "- n_list의 합과 name_list의 개수가 일치하지 않는 경우 (입력받은 이름과 배정할 인원의 수가 맞지 않음) : 다시 입력하도록 경고 띄운 후 종료\n",
    "- team_names의 길이와 n_list의 길이가 일치하지 않는 경우 : 개수가 맞지 않음을 경고한 후 team_names를 초기화하여 출력\n",
    "\n",
    "이 사항들에 대해서 고려한 후 코딩 진행해보겠습니다."
   ]
  },
  {
   "cell_type": "code",
   "execution_count": 12,
   "id": "67bd6d7d",
   "metadata": {},
   "outputs": [],
   "source": [
    "def make_team(name_list, n_list, team_names=None):\n",
    "    \"\"\"\n",
    "    팀 만들기 : 이름 목록(name_list)과 팀별 인원 목록(n_list)를 입력하면 인원에 맞게 팀을 자동으로 구성합니다.\n",
    "\n",
    "    Args:\n",
    "        name_list (list): 이름 목록\n",
    "        n_list (list): 팀별 인원 목록\n",
    "        team_names (list, optional): 팀명 목록. Defaults to None.\n",
    "\n",
    "    Returns:\n",
    "        pd.DataFrame: 팀 구성 결과\n",
    "    \"\"\"\n",
    "    result_df = pd.DataFrame()\n",
    "\n",
    "    while True:\n",
    "        # input이 list의 형태가 아닌 경우\n",
    "        if (type(name_list) != list) or (type(n_list) != list):\n",
    "            print('!! name_list와 n_list는 list의 형태로 입력해주세요 !!')\n",
    "            break\n",
    "\n",
    "        # team_names가 list의 형태가 아닌 경우\n",
    "        if (team_names != None) & (type(team_names) != list):\n",
    "            print('### team_names는 list의 형태로 입력해주세요 ###')\n",
    "            team_names = range(len(n_list))\n",
    "\n",
    "        # name_list의 길이와 n_list의 합이 일치하지 않는 경우\n",
    "        if len(name_list) != sum(n_list):\n",
    "            print('!! 입력한 이름 목록의 개수와 인원 목록의 합이 일치하지 않습니다 !!')\n",
    "            break\n",
    "\n",
    "        # team_names의 길이와 n_list의 길이가6 일치하지 않는 경우\n",
    "        if team_names != None:\n",
    "            if len(n_list) != len(team_names):\n",
    "                print('### 구성할 팀의 개수와 team_names의 개수가 일치하지 않습니다 ###')\n",
    "                team_names = range(len(n_list))\n",
    "\n",
    "        # 팀 구성\n",
    "        result = []\n",
    "        for i in range(len(n_list)):\n",
    "            members = []\n",
    "            for _ in range(n_list[i]):\n",
    "                member = rd.choice(name_list)\n",
    "                members.append(member)\n",
    "                name_list.remove(member)\n",
    "\n",
    "            result.append([members])\n",
    "\n",
    "        # 데이터 프레임 형태로 변환\n",
    "        result_df = pd.DataFrame(result, index=team_names, columns=['name'])\n",
    "        break\n",
    "\n",
    "    return result_df"
   ]
  },
  {
   "cell_type": "markdown",
   "id": "2c83ad45",
   "metadata": {},
   "source": [
    "# 함수 사용 예시"
   ]
  },
  {
   "cell_type": "code",
   "execution_count": 25,
   "id": "f2aca3c8",
   "metadata": {},
   "outputs": [
    {
     "data": {
      "text/html": [
       "<div>\n",
       "<style scoped>\n",
       "    .dataframe tbody tr th:only-of-type {\n",
       "        vertical-align: middle;\n",
       "    }\n",
       "\n",
       "    .dataframe tbody tr th {\n",
       "        vertical-align: top;\n",
       "    }\n",
       "\n",
       "    .dataframe thead th {\n",
       "        text-align: right;\n",
       "    }\n",
       "</style>\n",
       "<table border=\"1\" class=\"dataframe\">\n",
       "  <thead>\n",
       "    <tr style=\"text-align: right;\">\n",
       "      <th></th>\n",
       "      <th>name</th>\n",
       "    </tr>\n",
       "  </thead>\n",
       "  <tbody>\n",
       "    <tr>\n",
       "      <th>0</th>\n",
       "      <td>[은주, 인혜]</td>\n",
       "    </tr>\n",
       "    <tr>\n",
       "      <th>1</th>\n",
       "      <td>[동택, 일하]</td>\n",
       "    </tr>\n",
       "  </tbody>\n",
       "</table>\n",
       "</div>"
      ],
      "text/plain": [
       "       name\n",
       "0  [은주, 인혜]\n",
       "1  [동택, 일하]"
      ]
     },
     "execution_count": 25,
     "metadata": {},
     "output_type": "execute_result"
    }
   ],
   "source": [
    "names = ['은주', '인혜', '일하', '동택']\n",
    "n_list = [2, 2]\n",
    "\n",
    "make_team(names, n_list)"
   ]
  },
  {
   "cell_type": "code",
   "execution_count": 26,
   "id": "91d0972c",
   "metadata": {},
   "outputs": [
    {
     "data": {
      "text/html": [
       "<div>\n",
       "<style scoped>\n",
       "    .dataframe tbody tr th:only-of-type {\n",
       "        vertical-align: middle;\n",
       "    }\n",
       "\n",
       "    .dataframe tbody tr th {\n",
       "        vertical-align: top;\n",
       "    }\n",
       "\n",
       "    .dataframe thead th {\n",
       "        text-align: right;\n",
       "    }\n",
       "</style>\n",
       "<table border=\"1\" class=\"dataframe\">\n",
       "  <thead>\n",
       "    <tr style=\"text-align: right;\">\n",
       "      <th></th>\n",
       "      <th>name</th>\n",
       "    </tr>\n",
       "  </thead>\n",
       "  <tbody>\n",
       "    <tr>\n",
       "      <th>A팀</th>\n",
       "      <td>[일하, 동택]</td>\n",
       "    </tr>\n",
       "    <tr>\n",
       "      <th>B팀</th>\n",
       "      <td>[은주, 인혜]</td>\n",
       "    </tr>\n",
       "  </tbody>\n",
       "</table>\n",
       "</div>"
      ],
      "text/plain": [
       "        name\n",
       "A팀  [일하, 동택]\n",
       "B팀  [은주, 인혜]"
      ]
     },
     "execution_count": 26,
     "metadata": {},
     "output_type": "execute_result"
    }
   ],
   "source": [
    "# 팀 이름 지정\n",
    "names = ['은주', '인혜', '일하', '동택']\n",
    "n_list = [2, 2]\n",
    "teams = ['A팀', 'B팀']\n",
    "\n",
    "make_team(names, n_list, teams)"
   ]
  },
  {
   "cell_type": "markdown",
   "id": "caf29fee",
   "metadata": {},
   "source": [
    "### 예상되는 오류에 대한 예시"
   ]
  },
  {
   "cell_type": "code",
   "execution_count": 27,
   "id": "cbc1bf64",
   "metadata": {},
   "outputs": [
    {
     "name": "stdout",
     "output_type": "stream",
     "text": [
      "!! name_list와 n_list는 list의 형태로 입력해주세요 !!\n"
     ]
    },
    {
     "data": {
      "text/html": [
       "<div>\n",
       "<style scoped>\n",
       "    .dataframe tbody tr th:only-of-type {\n",
       "        vertical-align: middle;\n",
       "    }\n",
       "\n",
       "    .dataframe tbody tr th {\n",
       "        vertical-align: top;\n",
       "    }\n",
       "\n",
       "    .dataframe thead th {\n",
       "        text-align: right;\n",
       "    }\n",
       "</style>\n",
       "<table border=\"1\" class=\"dataframe\">\n",
       "  <thead>\n",
       "    <tr style=\"text-align: right;\">\n",
       "      <th></th>\n",
       "    </tr>\n",
       "  </thead>\n",
       "  <tbody>\n",
       "  </tbody>\n",
       "</table>\n",
       "</div>"
      ],
      "text/plain": [
       "Empty DataFrame\n",
       "Columns: []\n",
       "Index: []"
      ]
     },
     "execution_count": 27,
     "metadata": {},
     "output_type": "execute_result"
    }
   ],
   "source": [
    "# input이 list의 형태가 아닌 경우\n",
    "names = '은주'\n",
    "n_list = [1]\n",
    "\n",
    "make_team(names, n_list, teams)"
   ]
  },
  {
   "cell_type": "code",
   "execution_count": 28,
   "id": "39db286b",
   "metadata": {},
   "outputs": [
    {
     "name": "stdout",
     "output_type": "stream",
     "text": [
      "### team_names는 list의 형태로 입력해주세요 ###\n"
     ]
    },
    {
     "data": {
      "text/html": [
       "<div>\n",
       "<style scoped>\n",
       "    .dataframe tbody tr th:only-of-type {\n",
       "        vertical-align: middle;\n",
       "    }\n",
       "\n",
       "    .dataframe tbody tr th {\n",
       "        vertical-align: top;\n",
       "    }\n",
       "\n",
       "    .dataframe thead th {\n",
       "        text-align: right;\n",
       "    }\n",
       "</style>\n",
       "<table border=\"1\" class=\"dataframe\">\n",
       "  <thead>\n",
       "    <tr style=\"text-align: right;\">\n",
       "      <th></th>\n",
       "      <th>name</th>\n",
       "    </tr>\n",
       "  </thead>\n",
       "  <tbody>\n",
       "    <tr>\n",
       "      <th>0</th>\n",
       "      <td>[은주, 일하]</td>\n",
       "    </tr>\n",
       "    <tr>\n",
       "      <th>1</th>\n",
       "      <td>[동택, 인혜]</td>\n",
       "    </tr>\n",
       "  </tbody>\n",
       "</table>\n",
       "</div>"
      ],
      "text/plain": [
       "       name\n",
       "0  [은주, 일하]\n",
       "1  [동택, 인혜]"
      ]
     },
     "execution_count": 28,
     "metadata": {},
     "output_type": "execute_result"
    }
   ],
   "source": [
    "# team_names가 list의 형태가 아닌 경우\n",
    "names = ['은주', '인혜', '일하', '동택']\n",
    "n_list = [2, 2]\n",
    "teams = 'A팀'\n",
    "\n",
    "make_team(names, n_list, teams)"
   ]
  },
  {
   "cell_type": "code",
   "execution_count": 22,
   "id": "638d8b16",
   "metadata": {},
   "outputs": [
    {
     "name": "stdout",
     "output_type": "stream",
     "text": [
      "!! 입력한 이름 목록의 개수와 인원 목록의 합이 일치하지 않습니다 !!\n"
     ]
    },
    {
     "data": {
      "text/html": [
       "<div>\n",
       "<style scoped>\n",
       "    .dataframe tbody tr th:only-of-type {\n",
       "        vertical-align: middle;\n",
       "    }\n",
       "\n",
       "    .dataframe tbody tr th {\n",
       "        vertical-align: top;\n",
       "    }\n",
       "\n",
       "    .dataframe thead th {\n",
       "        text-align: right;\n",
       "    }\n",
       "</style>\n",
       "<table border=\"1\" class=\"dataframe\">\n",
       "  <thead>\n",
       "    <tr style=\"text-align: right;\">\n",
       "      <th></th>\n",
       "    </tr>\n",
       "  </thead>\n",
       "  <tbody>\n",
       "  </tbody>\n",
       "</table>\n",
       "</div>"
      ],
      "text/plain": [
       "Empty DataFrame\n",
       "Columns: []\n",
       "Index: []"
      ]
     },
     "execution_count": 22,
     "metadata": {},
     "output_type": "execute_result"
    }
   ],
   "source": [
    "# name_list의 길이와 n_list의 합이 일치하지 않는 경우\n",
    "names = ['은주', '인혜', '일하', '동택']\n",
    "n_list = [2, 2, 2]\n",
    "\n",
    "make_team(names, n_list, teams)"
   ]
  },
  {
   "cell_type": "code",
   "execution_count": 24,
   "id": "caade3fb",
   "metadata": {},
   "outputs": [
    {
     "name": "stdout",
     "output_type": "stream",
     "text": [
      "### 구성할 팀의 개수와 team_names의 개수가 일치하지 않습니다 ###\n"
     ]
    },
    {
     "data": {
      "text/html": [
       "<div>\n",
       "<style scoped>\n",
       "    .dataframe tbody tr th:only-of-type {\n",
       "        vertical-align: middle;\n",
       "    }\n",
       "\n",
       "    .dataframe tbody tr th {\n",
       "        vertical-align: top;\n",
       "    }\n",
       "\n",
       "    .dataframe thead th {\n",
       "        text-align: right;\n",
       "    }\n",
       "</style>\n",
       "<table border=\"1\" class=\"dataframe\">\n",
       "  <thead>\n",
       "    <tr style=\"text-align: right;\">\n",
       "      <th></th>\n",
       "      <th>name</th>\n",
       "    </tr>\n",
       "  </thead>\n",
       "  <tbody>\n",
       "    <tr>\n",
       "      <th>0</th>\n",
       "      <td>[인혜, 동택]</td>\n",
       "    </tr>\n",
       "    <tr>\n",
       "      <th>1</th>\n",
       "      <td>[일하, 은주]</td>\n",
       "    </tr>\n",
       "  </tbody>\n",
       "</table>\n",
       "</div>"
      ],
      "text/plain": [
       "       name\n",
       "0  [인혜, 동택]\n",
       "1  [일하, 은주]"
      ]
     },
     "execution_count": 24,
     "metadata": {},
     "output_type": "execute_result"
    }
   ],
   "source": [
    "# team_names의 길이와 n_list의 길이가 일치하지 않는 경우\n",
    "names = ['은주', '인혜', '일하', '동택']\n",
    "n_list = [2, 2]\n",
    "teams = ['A팀', 'B팀', 'C팀']\n",
    "\n",
    "make_team(names, n_list, teams)"
   ]
  },
  {
   "cell_type": "markdown",
   "id": "ece25fc9",
   "metadata": {},
   "source": [
    "이번에도 이렇게 간단하게 팀을 만드는 함수를 코딩해보았습니다. 다음에도 간단하게 코딩할 수 있는 문제를 찾는다면 다른 게시물로 찾아오겠습니다. 오늘도 제 글 읽어주셔서 감사합니다 :)"
   ]
  }
 ],
 "metadata": {
  "kernelspec": {
   "display_name": "Python 3",
   "language": "python",
   "name": "python3"
  },
  "language_info": {
   "codemirror_mode": {
    "name": "ipython",
    "version": 3
   },
   "file_extension": ".py",
   "mimetype": "text/x-python",
   "name": "python",
   "nbconvert_exporter": "python",
   "pygments_lexer": "ipython3",
   "version": "3.6.9"
  }
 },
 "nbformat": 4,
 "nbformat_minor": 5
}
