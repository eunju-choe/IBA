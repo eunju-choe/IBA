{
 "cells": [
  {
   "cell_type": "markdown",
   "id": "76421d3a",
   "metadata": {},
   "source": [
    "파이썬으로 사다리타기를 만들어보자."
   ]
  },
  {
   "cell_type": "markdown",
   "id": "e8845749",
   "metadata": {},
   "source": [
    "우리 동아리는 팀을 만들거나 역할을 배정할 때 사다리타기를 자주 이용합니다. 그러나 동아리의 규모가 커지니 매번 사다리타기에 이름을 입력하는 것이 힘들어졌습니다. 편의를 위해 간단하게 파이썬을 이용하여 사다리타기를 만들었고, 이번에는 이에 대한 게시물을 작성해보고자 합니다."
   ]
  },
  {
   "cell_type": "markdown",
   "id": "f7025d8c",
   "metadata": {},
   "source": [
    "저는 이번에 아래의 세 가지 기능이 있는 사다리타기를 구현하려고 합니다.\n",
    "1. n명의 당첨자 정하기\n",
    "2. 역할 배정하기\n",
    "3. 순서 정하기\n",
    "\n",
    "차례대로 기능들을 하나씩 구현해보도록 하겠습니다."
   ]
  },
  {
   "cell_type": "markdown",
   "id": "b4070cb8",
   "metadata": {},
   "source": [
    "# 1. n명의 당첨자 정하기"
   ]
  },
  {
   "cell_type": "markdown",
   "id": "e51d4913",
   "metadata": {},
   "source": [
    "## 1.1. Process 살펴보기"
   ]
  },
  {
   "cell_type": "markdown",
   "id": "c73eb7e0",
   "metadata": {},
   "source": [
    "당첨자 정하기는 입력 목록에서 n명의 당첨자를 고르는 것입니다. 따라서 입력 목록과 당첨자 수를 입력받고, 당첨자 선정 결과를 출력할 것입니다. 이를 함수로 구현하기에 앞서 process를 먼저 살펴보겠습니다."
   ]
  },
  {
   "cell_type": "code",
   "execution_count": 1,
   "id": "f68d11ee",
   "metadata": {},
   "outputs": [],
   "source": [
    "import random as rd\n",
    "import pandas as pd"
   ]
  },
  {
   "cell_type": "code",
   "execution_count": 2,
   "id": "f6d3f0f1",
   "metadata": {},
   "outputs": [],
   "source": [
    "inputs = ['은주', '인혜', '일하', '동택']\n",
    "n_inputs = len(inputs)\n",
    "\n",
    "n_outputs = 2"
   ]
  },
  {
   "cell_type": "markdown",
   "id": "4cfcaa58",
   "metadata": {},
   "source": [
    "사다리타기에 이용할 값들을 임의로 생성해보았습니다.\n",
    "- 입력 목록(inputs)은 list의 형태로 입력받습니다. 따라서 입력 목록이 list가 아닌 경우를 고려해야합니다.\n",
    "- 당첨자수(n_outputs)는 int의 형태로 입력받습니다. 따라서 당첨자 수가 int가 아닌 경우를 고려해야합니다.\n",
    "\n",
    "이번에는 2명의 당첨자를 골라보겠습니다."
   ]
  },
  {
   "cell_type": "code",
   "execution_count": 3,
   "id": "2331a883",
   "metadata": {},
   "outputs": [
    {
     "data": {
      "text/plain": [
       "['당첨', '당첨', '꽝', '꽝']"
      ]
     },
     "execution_count": 3,
     "metadata": {},
     "output_type": "execute_result"
    }
   ],
   "source": [
    "outputs = ['당첨' for x in range(n_outputs)] + ['꽝' for x in range(n_inputs - n_outputs)]\n",
    "outputs"
   ]
  },
  {
   "cell_type": "markdown",
   "id": "f333f511",
   "metadata": {},
   "source": [
    "결과물 출력을 위해 입력받은 당첨자수만큼 '당첨'을 생성하고, 입력 목록의 개수에서 당첨자수를 뺀만큼 '꽝'을 생성하여 리스트 형태로 만듭니다. 이때 또 고려할 점이 몇가지 있습니다.\n",
    "- 입력 목록의 개수보다 당첨자수가 많은 경우 : 입력 목록의 개수만큼 당첨이 있는 리스트가 생성됨\n",
    "- 당첨자수가 0명인 경우 : 입력 목록의 개수만큼 꽝이 있는 리스트가 생성됨\n",
    "\n",
    "함수로 코딩할 때에는 이 부분에 대해서 간단하게 경고 메시지만 출력하는 방식으로 진행하려고 합니다."
   ]
  },
  {
   "cell_type": "code",
   "execution_count": 4,
   "id": "90e5257b",
   "metadata": {},
   "outputs": [
    {
     "data": {
      "text/plain": [
       "{'은주': '꽝', '인혜': '당첨', '일하': '당첨', '동택': '꽝'}"
      ]
     },
     "execution_count": 4,
     "metadata": {},
     "output_type": "execute_result"
    }
   ],
   "source": [
    "res_dict = {}\n",
    "for x in inputs:\n",
    "    res = rd.choice(outputs)\n",
    "    outputs.remove(res)\n",
    "    res_dict[x] = res\n",
    "    \n",
    "res_dict"
   ]
  },
  {
   "cell_type": "markdown",
   "id": "a4374aa4",
   "metadata": {},
   "source": [
    "input과 output에 대한 준비가 끝나고 random의 choice를 이용하여 사다리타기를 만들었습니다.\n",
    "\n",
    "먼저 결과를 저장할 dictionary를 선언하고, 반복문을 이용하여 사다리타기를 실시합니다. rd.choice()를 이용하면 리스트에서 랜덤하게 하나의 요소를 선택할 수 있습니다. 이를 이용하여 res에 하나의 값을 저장하고, outputs에서 res에 저장된 값을 제거해줍니다. 그리고 res_dict에 key 마다 value를 저장합니다."
   ]
  },
  {
   "cell_type": "code",
   "execution_count": 5,
   "id": "da49fc96",
   "metadata": {},
   "outputs": [
    {
     "data": {
      "text/html": [
       "<div>\n",
       "<style scoped>\n",
       "    .dataframe tbody tr th:only-of-type {\n",
       "        vertical-align: middle;\n",
       "    }\n",
       "\n",
       "    .dataframe tbody tr th {\n",
       "        vertical-align: top;\n",
       "    }\n",
       "\n",
       "    .dataframe thead th {\n",
       "        text-align: right;\n",
       "    }\n",
       "</style>\n",
       "<table border=\"1\" class=\"dataframe\">\n",
       "  <thead>\n",
       "    <tr style=\"text-align: right;\">\n",
       "      <th></th>\n",
       "      <th>result</th>\n",
       "    </tr>\n",
       "  </thead>\n",
       "  <tbody>\n",
       "    <tr>\n",
       "      <th>은주</th>\n",
       "      <td>꽝</td>\n",
       "    </tr>\n",
       "    <tr>\n",
       "      <th>인혜</th>\n",
       "      <td>당첨</td>\n",
       "    </tr>\n",
       "    <tr>\n",
       "      <th>일하</th>\n",
       "      <td>당첨</td>\n",
       "    </tr>\n",
       "    <tr>\n",
       "      <th>동택</th>\n",
       "      <td>꽝</td>\n",
       "    </tr>\n",
       "  </tbody>\n",
       "</table>\n",
       "</div>"
      ],
      "text/plain": [
       "   result\n",
       "은주      꽝\n",
       "인혜     당첨\n",
       "일하     당첨\n",
       "동택      꽝"
      ]
     },
     "execution_count": 5,
     "metadata": {},
     "output_type": "execute_result"
    }
   ],
   "source": [
    "res_df = pd.DataFrame([res_dict], index=['result']).T\n",
    "res_df"
   ]
  },
  {
   "cell_type": "markdown",
   "id": "83ed3128",
   "metadata": {},
   "source": [
    "마지막으로 결과를 더 보기 좋게 출력하기 위해 DataFrame으로 변환합니다."
   ]
  },
  {
   "cell_type": "markdown",
   "id": "65f93022",
   "metadata": {},
   "source": [
    "## 1.2. 함수 만들기"
   ]
  },
  {
   "cell_type": "markdown",
   "id": "34b4c58e",
   "metadata": {},
   "source": [
    "위에서 확인했던 고려사항들은 다음과 같습니다.\n",
    "1. 입력 목록이 list가 아닌 경우\n",
    "2. 당첨자수가 int가 아닌 경우\n",
    "3. 입력목록의 개수보다 당첨자수가 많은 경우, 당첨자수가 0인 경우\n",
    "\n",
    "이를 다시 한 번 기억한 다음 함수로 만들어보겠습니다."
   ]
  },
  {
   "cell_type": "code",
   "execution_count": 6,
   "id": "84c6d00d",
   "metadata": {},
   "outputs": [],
   "source": [
    "def ghost_lag_OX(inputs, n_outputs, return_only_O=False):\n",
    "    \"\"\"\n",
    "    사다리타기 1 : 당첨자 정하기\n",
    "    입력 목록에서 입력한 수만큼 당첨자를 선택하여 데이터프레임으로 반환합니다.\n",
    "    \n",
    "    Args:\n",
    "        inputs (list): 사다리타기 입력값\n",
    "        n_outputs (int): 당첨자의 수\n",
    "        return_only_O (bool, default=False): 당첨자만 출력할지에 대한 여부\n",
    "        \n",
    "    Returns:\n",
    "        dataframe: 사다리타기 결과값\n",
    "    \"\"\"\n",
    "    result_df = pd.DataFrame()\n",
    "    \n",
    "    while True:\n",
    "        # input이 list 형태가 아닌 경우\n",
    "        if type(inputs) != list:\n",
    "            print('!! inputs는 list의 형태로 입력해주세요 !!')\n",
    "            break\n",
    "            \n",
    "        # 입력 목록의 개수 세기\n",
    "        n_inputs = len(inputs)\n",
    "        \n",
    "        # 빈 list를 입력한 경우\n",
    "        if n_inputs < 1 :\n",
    "            print('!! 입력 목록이 비어있습니다 !!')\n",
    "            break\n",
    "            \n",
    "        # 입력 목록의 수 < 당첨자의 수\n",
    "        if n_inputs < n_outputs:\n",
    "            print('### 입력 목록의 수보다 당첨자의 수가 많습니다 ###')\n",
    "            \n",
    "        # 당첨자의 수가 0인 경우\n",
    "        if n_outputs == 0:\n",
    "            print('### 당첨자의 수가 0명입니다 ###')\n",
    "            \n",
    "        # 출력 리스트 생성\n",
    "        try:\n",
    "            outputs = ['당첨' for x in range(n_outputs)] + ['꽝' for x in range(n_inputs - n_outputs)]\n",
    "        except TypeError:\n",
    "            print('!! 당첨자의 수는 int형태로 입력되어야 합니다 !!')\n",
    "            break\n",
    "            \n",
    "        # 사다리 타기 결과\n",
    "        res_dict = {}\n",
    "        for x in inputs:\n",
    "            res = rd.choice(outputs)\n",
    "            outputs.remove(res)\n",
    "            res_dict[x] = res\n",
    "\n",
    "        # 데이터프레임으로 변환\n",
    "        result_df = pd.DataFrame([res_dict], index=['result']).T\n",
    "        \n",
    "        # 당첨자만 출력        \n",
    "        if return_only_O:\n",
    "            result_df = result_df[result_df['result']!='꽝']\n",
    "        \n",
    "        break\n",
    "        \n",
    "    return result_df"
   ]
  },
  {
   "cell_type": "markdown",
   "id": "10771366",
   "metadata": {},
   "source": [
    "## 1.3. 함수 사용 예시"
   ]
  },
  {
   "cell_type": "code",
   "execution_count": 46,
   "id": "c8931b35",
   "metadata": {
    "scrolled": true
   },
   "outputs": [
    {
     "data": {
      "text/html": [
       "<div>\n",
       "<style scoped>\n",
       "    .dataframe tbody tr th:only-of-type {\n",
       "        vertical-align: middle;\n",
       "    }\n",
       "\n",
       "    .dataframe tbody tr th {\n",
       "        vertical-align: top;\n",
       "    }\n",
       "\n",
       "    .dataframe thead th {\n",
       "        text-align: right;\n",
       "    }\n",
       "</style>\n",
       "<table border=\"1\" class=\"dataframe\">\n",
       "  <thead>\n",
       "    <tr style=\"text-align: right;\">\n",
       "      <th></th>\n",
       "      <th>result</th>\n",
       "    </tr>\n",
       "  </thead>\n",
       "  <tbody>\n",
       "    <tr>\n",
       "      <th>은주</th>\n",
       "      <td>당첨</td>\n",
       "    </tr>\n",
       "    <tr>\n",
       "      <th>인혜</th>\n",
       "      <td>당첨</td>\n",
       "    </tr>\n",
       "    <tr>\n",
       "      <th>일하</th>\n",
       "      <td>꽝</td>\n",
       "    </tr>\n",
       "    <tr>\n",
       "      <th>동택</th>\n",
       "      <td>꽝</td>\n",
       "    </tr>\n",
       "  </tbody>\n",
       "</table>\n",
       "</div>"
      ],
      "text/plain": [
       "   result\n",
       "은주     당첨\n",
       "인혜     당첨\n",
       "일하      꽝\n",
       "동택      꽝"
      ]
     },
     "execution_count": 46,
     "metadata": {},
     "output_type": "execute_result"
    }
   ],
   "source": [
    "names = ['은주', '인혜', '일하', '동택']\n",
    "n_outputs = 2\n",
    "ghost_lag_OX(names, n_outputs, False)"
   ]
  },
  {
   "cell_type": "markdown",
   "id": "20c41919",
   "metadata": {},
   "source": [
    "return_only_O=True로 지정할 경우 아래와 같이 당첨자의 이름만 출력할 수도 있습니다."
   ]
  },
  {
   "cell_type": "code",
   "execution_count": 8,
   "id": "3cf2fade",
   "metadata": {
    "scrolled": true
   },
   "outputs": [
    {
     "data": {
      "text/html": [
       "<div>\n",
       "<style scoped>\n",
       "    .dataframe tbody tr th:only-of-type {\n",
       "        vertical-align: middle;\n",
       "    }\n",
       "\n",
       "    .dataframe tbody tr th {\n",
       "        vertical-align: top;\n",
       "    }\n",
       "\n",
       "    .dataframe thead th {\n",
       "        text-align: right;\n",
       "    }\n",
       "</style>\n",
       "<table border=\"1\" class=\"dataframe\">\n",
       "  <thead>\n",
       "    <tr style=\"text-align: right;\">\n",
       "      <th></th>\n",
       "      <th>result</th>\n",
       "    </tr>\n",
       "  </thead>\n",
       "  <tbody>\n",
       "    <tr>\n",
       "      <th>일하</th>\n",
       "      <td>당첨</td>\n",
       "    </tr>\n",
       "    <tr>\n",
       "      <th>동택</th>\n",
       "      <td>당첨</td>\n",
       "    </tr>\n",
       "  </tbody>\n",
       "</table>\n",
       "</div>"
      ],
      "text/plain": [
       "   result\n",
       "일하     당첨\n",
       "동택     당첨"
      ]
     },
     "execution_count": 8,
     "metadata": {},
     "output_type": "execute_result"
    }
   ],
   "source": [
    "names = ['은주', '인혜', '일하', '동택']\n",
    "n_outputs = 2\n",
    "ghost_lag_OX(names, n_outputs, True)"
   ]
  },
  {
   "cell_type": "markdown",
   "id": "1398e79a",
   "metadata": {},
   "source": [
    "#### 예상되는 오류에 대한 예시"
   ]
  },
  {
   "cell_type": "code",
   "execution_count": 9,
   "id": "57304f49",
   "metadata": {},
   "outputs": [
    {
     "name": "stdout",
     "output_type": "stream",
     "text": [
      "!! inputs는 list의 형태로 입력해주세요 !!\n"
     ]
    },
    {
     "data": {
      "text/html": [
       "<div>\n",
       "<style scoped>\n",
       "    .dataframe tbody tr th:only-of-type {\n",
       "        vertical-align: middle;\n",
       "    }\n",
       "\n",
       "    .dataframe tbody tr th {\n",
       "        vertical-align: top;\n",
       "    }\n",
       "\n",
       "    .dataframe thead th {\n",
       "        text-align: right;\n",
       "    }\n",
       "</style>\n",
       "<table border=\"1\" class=\"dataframe\">\n",
       "  <thead>\n",
       "    <tr style=\"text-align: right;\">\n",
       "      <th></th>\n",
       "    </tr>\n",
       "  </thead>\n",
       "  <tbody>\n",
       "  </tbody>\n",
       "</table>\n",
       "</div>"
      ],
      "text/plain": [
       "Empty DataFrame\n",
       "Columns: []\n",
       "Index: []"
      ]
     },
     "execution_count": 9,
     "metadata": {},
     "output_type": "execute_result"
    }
   ],
   "source": [
    "ghost_lag_OX('가', 0)"
   ]
  },
  {
   "cell_type": "code",
   "execution_count": 10,
   "id": "5d988a1c",
   "metadata": {},
   "outputs": [
    {
     "name": "stdout",
     "output_type": "stream",
     "text": [
      "!! 입력 목록이 비어있습니다 !!\n"
     ]
    },
    {
     "data": {
      "text/html": [
       "<div>\n",
       "<style scoped>\n",
       "    .dataframe tbody tr th:only-of-type {\n",
       "        vertical-align: middle;\n",
       "    }\n",
       "\n",
       "    .dataframe tbody tr th {\n",
       "        vertical-align: top;\n",
       "    }\n",
       "\n",
       "    .dataframe thead th {\n",
       "        text-align: right;\n",
       "    }\n",
       "</style>\n",
       "<table border=\"1\" class=\"dataframe\">\n",
       "  <thead>\n",
       "    <tr style=\"text-align: right;\">\n",
       "      <th></th>\n",
       "    </tr>\n",
       "  </thead>\n",
       "  <tbody>\n",
       "  </tbody>\n",
       "</table>\n",
       "</div>"
      ],
      "text/plain": [
       "Empty DataFrame\n",
       "Columns: []\n",
       "Index: []"
      ]
     },
     "execution_count": 10,
     "metadata": {},
     "output_type": "execute_result"
    }
   ],
   "source": [
    "ghost_lag_OX([], 0)"
   ]
  },
  {
   "cell_type": "code",
   "execution_count": 11,
   "id": "ff221d70",
   "metadata": {},
   "outputs": [
    {
     "name": "stdout",
     "output_type": "stream",
     "text": [
      "!! 당첨자의 수는 int형태로 입력되어야 합니다 !!\n"
     ]
    },
    {
     "data": {
      "text/html": [
       "<div>\n",
       "<style scoped>\n",
       "    .dataframe tbody tr th:only-of-type {\n",
       "        vertical-align: middle;\n",
       "    }\n",
       "\n",
       "    .dataframe tbody tr th {\n",
       "        vertical-align: top;\n",
       "    }\n",
       "\n",
       "    .dataframe thead th {\n",
       "        text-align: right;\n",
       "    }\n",
       "</style>\n",
       "<table border=\"1\" class=\"dataframe\">\n",
       "  <thead>\n",
       "    <tr style=\"text-align: right;\">\n",
       "      <th></th>\n",
       "    </tr>\n",
       "  </thead>\n",
       "  <tbody>\n",
       "  </tbody>\n",
       "</table>\n",
       "</div>"
      ],
      "text/plain": [
       "Empty DataFrame\n",
       "Columns: []\n",
       "Index: []"
      ]
     },
     "execution_count": 11,
     "metadata": {},
     "output_type": "execute_result"
    }
   ],
   "source": [
    "ghost_lag_OX(names, 2.4)"
   ]
  },
  {
   "cell_type": "code",
   "execution_count": 12,
   "id": "a055bb94",
   "metadata": {},
   "outputs": [
    {
     "name": "stdout",
     "output_type": "stream",
     "text": [
      "### 입력 목록의 수보다 당첨자의 수가 많습니다 ###\n"
     ]
    },
    {
     "data": {
      "text/html": [
       "<div>\n",
       "<style scoped>\n",
       "    .dataframe tbody tr th:only-of-type {\n",
       "        vertical-align: middle;\n",
       "    }\n",
       "\n",
       "    .dataframe tbody tr th {\n",
       "        vertical-align: top;\n",
       "    }\n",
       "\n",
       "    .dataframe thead th {\n",
       "        text-align: right;\n",
       "    }\n",
       "</style>\n",
       "<table border=\"1\" class=\"dataframe\">\n",
       "  <thead>\n",
       "    <tr style=\"text-align: right;\">\n",
       "      <th></th>\n",
       "      <th>result</th>\n",
       "    </tr>\n",
       "  </thead>\n",
       "  <tbody>\n",
       "    <tr>\n",
       "      <th>은주</th>\n",
       "      <td>당첨</td>\n",
       "    </tr>\n",
       "    <tr>\n",
       "      <th>인혜</th>\n",
       "      <td>당첨</td>\n",
       "    </tr>\n",
       "    <tr>\n",
       "      <th>일하</th>\n",
       "      <td>당첨</td>\n",
       "    </tr>\n",
       "    <tr>\n",
       "      <th>동택</th>\n",
       "      <td>당첨</td>\n",
       "    </tr>\n",
       "  </tbody>\n",
       "</table>\n",
       "</div>"
      ],
      "text/plain": [
       "   result\n",
       "은주     당첨\n",
       "인혜     당첨\n",
       "일하     당첨\n",
       "동택     당첨"
      ]
     },
     "execution_count": 12,
     "metadata": {},
     "output_type": "execute_result"
    }
   ],
   "source": [
    "ghost_lag_OX(names, 6)"
   ]
  },
  {
   "cell_type": "code",
   "execution_count": 13,
   "id": "b3086ba9",
   "metadata": {
    "scrolled": true
   },
   "outputs": [
    {
     "name": "stdout",
     "output_type": "stream",
     "text": [
      "### 당첨자의 수가 0명입니다 ###\n"
     ]
    },
    {
     "data": {
      "text/html": [
       "<div>\n",
       "<style scoped>\n",
       "    .dataframe tbody tr th:only-of-type {\n",
       "        vertical-align: middle;\n",
       "    }\n",
       "\n",
       "    .dataframe tbody tr th {\n",
       "        vertical-align: top;\n",
       "    }\n",
       "\n",
       "    .dataframe thead th {\n",
       "        text-align: right;\n",
       "    }\n",
       "</style>\n",
       "<table border=\"1\" class=\"dataframe\">\n",
       "  <thead>\n",
       "    <tr style=\"text-align: right;\">\n",
       "      <th></th>\n",
       "      <th>result</th>\n",
       "    </tr>\n",
       "  </thead>\n",
       "  <tbody>\n",
       "    <tr>\n",
       "      <th>은주</th>\n",
       "      <td>꽝</td>\n",
       "    </tr>\n",
       "    <tr>\n",
       "      <th>인혜</th>\n",
       "      <td>꽝</td>\n",
       "    </tr>\n",
       "    <tr>\n",
       "      <th>일하</th>\n",
       "      <td>꽝</td>\n",
       "    </tr>\n",
       "    <tr>\n",
       "      <th>동택</th>\n",
       "      <td>꽝</td>\n",
       "    </tr>\n",
       "  </tbody>\n",
       "</table>\n",
       "</div>"
      ],
      "text/plain": [
       "   result\n",
       "은주      꽝\n",
       "인혜      꽝\n",
       "일하      꽝\n",
       "동택      꽝"
      ]
     },
     "execution_count": 13,
     "metadata": {},
     "output_type": "execute_result"
    }
   ],
   "source": [
    "ghost_lag_OX(names, 0)"
   ]
  },
  {
   "cell_type": "markdown",
   "id": "fe17b4a1",
   "metadata": {},
   "source": [
    "# 2. 역할 배정하기"
   ]
  },
  {
   "cell_type": "markdown",
   "id": "240d5fb2",
   "metadata": {},
   "source": [
    "## 2.1. Process 살펴보기"
   ]
  },
  {
   "cell_type": "markdown",
   "id": "99015f95",
   "metadata": {},
   "source": [
    "역할 배정하기는 입력 목록과 역할 목록을 직접 입력하여 사다리타기를 진행하는 것입니다. 따라서 입력 목록과 역할 목록을 입력받고 사다리타기한 결과를 출력하는 것입니다. 여기에 입력 목록보다 역할 목록이 적은 경우에는 꽝을 출력할 수 있도록 만들려고 합니다. 이번에도 process를 먼저 살펴보겠습니다."
   ]
  },
  {
   "cell_type": "code",
   "execution_count": 14,
   "id": "0e7986f7",
   "metadata": {},
   "outputs": [],
   "source": [
    "inputs = ['은주', '인혜', '일하', '동택']\n",
    "outputs = ['PPT 제작', '발표', '자료 조사']"
   ]
  },
  {
   "cell_type": "markdown",
   "id": "5871c617",
   "metadata": {},
   "source": [
    "이번에도 사다리타기에 이용할 값들을 임의로 생성하였습니다.\n",
    "- 입력 목록(inputs)과 역할 목록(outputs)은 list 형태로 입력받습니다.\n",
    "- 입력 목록의 개수보다 역할 목록의 개수가 많다면 오류가 발생합니다.\n",
    "\n",
    "위와 같이 inputs 개수보다 outputs의 개수가 적다면 남은 자리를 꽝으로 채울 것입니다."
   ]
  },
  {
   "cell_type": "code",
   "execution_count": 15,
   "id": "7ab2eb91",
   "metadata": {},
   "outputs": [
    {
     "data": {
      "text/plain": [
       "['PPT 제작', '발표', '자료 조사', '꽝']"
      ]
     },
     "execution_count": 15,
     "metadata": {},
     "output_type": "execute_result"
    }
   ],
   "source": [
    "outputs = outputs + ['꽝' for x in range(len(inputs) - len(outputs))]\n",
    "outputs"
   ]
  },
  {
   "cell_type": "markdown",
   "id": "1db81759",
   "metadata": {},
   "source": [
    "위에서 사용했던 방식과 동일하게 사다리 타기에 이용할 출력 목록을 구성하였습니다.\\\n",
    "이후로 진행되는 과정은 앞에서 사용했던 방식의 반복이기 때문에 다른 부분이 없다면 설명은 생략하도록 하겠습니다."
   ]
  },
  {
   "cell_type": "code",
   "execution_count": 16,
   "id": "3da63dd3",
   "metadata": {},
   "outputs": [
    {
     "data": {
      "text/plain": [
       "{'은주': 'PPT 제작', '인혜': '꽝', '일하': '자료 조사', '동택': '발표'}"
      ]
     },
     "execution_count": 16,
     "metadata": {},
     "output_type": "execute_result"
    }
   ],
   "source": [
    "res_dict = {}\n",
    "for x in inputs:\n",
    "    res = rd.choice(outputs)\n",
    "    outputs.remove(res)\n",
    "    res_dict[x] = res\n",
    "    \n",
    "res_dict"
   ]
  },
  {
   "cell_type": "code",
   "execution_count": 17,
   "id": "bee1e475",
   "metadata": {},
   "outputs": [
    {
     "data": {
      "text/html": [
       "<div>\n",
       "<style scoped>\n",
       "    .dataframe tbody tr th:only-of-type {\n",
       "        vertical-align: middle;\n",
       "    }\n",
       "\n",
       "    .dataframe tbody tr th {\n",
       "        vertical-align: top;\n",
       "    }\n",
       "\n",
       "    .dataframe thead th {\n",
       "        text-align: right;\n",
       "    }\n",
       "</style>\n",
       "<table border=\"1\" class=\"dataframe\">\n",
       "  <thead>\n",
       "    <tr style=\"text-align: right;\">\n",
       "      <th></th>\n",
       "      <th>result</th>\n",
       "    </tr>\n",
       "  </thead>\n",
       "  <tbody>\n",
       "    <tr>\n",
       "      <th>은주</th>\n",
       "      <td>PPT 제작</td>\n",
       "    </tr>\n",
       "    <tr>\n",
       "      <th>인혜</th>\n",
       "      <td>꽝</td>\n",
       "    </tr>\n",
       "    <tr>\n",
       "      <th>일하</th>\n",
       "      <td>자료 조사</td>\n",
       "    </tr>\n",
       "    <tr>\n",
       "      <th>동택</th>\n",
       "      <td>발표</td>\n",
       "    </tr>\n",
       "  </tbody>\n",
       "</table>\n",
       "</div>"
      ],
      "text/plain": [
       "    result\n",
       "은주  PPT 제작\n",
       "인혜       꽝\n",
       "일하   자료 조사\n",
       "동택      발표"
      ]
     },
     "execution_count": 17,
     "metadata": {},
     "output_type": "execute_result"
    }
   ],
   "source": [
    "res_df = pd.DataFrame([res_dict], index=['result']).T\n",
    "res_df"
   ]
  },
  {
   "cell_type": "markdown",
   "id": "f8807b4f",
   "metadata": {},
   "source": [
    "## 2.2. 함수 만들기"
   ]
  },
  {
   "cell_type": "markdown",
   "id": "0f2ecdce",
   "metadata": {},
   "source": [
    "위에서 확인했던 고려사항들은 다음과 같습니다.\n",
    "1. 입력 목록과 역할 목록이 list가 아닌 경우\n",
    "2. 입력 목록의 개수보다 역할 목록의 개수가 많은 경우\n",
    "\n",
    "이를 다시 한 번 기억한 다음 함수로 만들어보겠습니다."
   ]
  },
  {
   "cell_type": "code",
   "execution_count": 18,
   "id": "093fbefe",
   "metadata": {},
   "outputs": [],
   "source": [
    "def ghost_lag_role(inputs, outputs, return_only_O=False):\n",
    "    \"\"\"\n",
    "    사다리타기 2 : 역할 배정하기\n",
    "    입력 목록과 역할 목록을 직접 입력하여 사다리타기한 결과를 반환합니다.\n",
    "    \n",
    "    Args:\n",
    "        inputs (list): 사다리타기 입력값\n",
    "        outputs (list): 사다리타기 출력값\n",
    "        return_only_O (bool, default=False): 당첨자만 출력할지에 대한 여부\n",
    "        \n",
    "    Returns:\n",
    "        dataframe: 사다리타기 결과값\n",
    "    \"\"\"\n",
    "    result_df = pd.DataFrame()\n",
    "    \n",
    "    while True:\n",
    "        # inputs 또는 outputs가 list 형태가 아닌 경우\n",
    "        if (type(inputs) != list) or (type(outputs) != list):\n",
    "            print('!! inputs와 outputs는 list의 형태로 입력해주세요 !!')\n",
    "            break\n",
    "        \n",
    "        # inputs에 빈 list를 입력한 경우\n",
    "        if len(inputs) < 1 :\n",
    "            print('!! 입력 목록이 비어있습니다 !!')\n",
    "            break\n",
    "            \n",
    "        # 입력목록의 개수보다 출력목록의 개수가 많은 경우\n",
    "        if len(inputs) < len(outputs):\n",
    "            print('!! 입력 목록의 수보다 출력 목록의 수가 많습니다 !!')\n",
    "            break\n",
    "            \n",
    "        # outputs에 빈 list를 입력한 경우\n",
    "        if (len(outputs)) < 1:\n",
    "            print('### 출력 목록이 비어있습니다 ###')\n",
    "            \n",
    "        # 출력 리스트 생성 \n",
    "        outputs = outputs + ['꽝' for x in range(len(inputs) - len(outputs))]\n",
    "        \n",
    "        # 사다리 타기 결과\n",
    "        res_dict = {}\n",
    "        for x in inputs:\n",
    "            res = rd.choice(outputs)\n",
    "            outputs.remove(res)\n",
    "            res_dict[x] = res\n",
    "\n",
    "        # 데이터프레임으로 변환\n",
    "        result_df = pd.DataFrame([res_dict], index=['result']).T\n",
    "        \n",
    "        # 당첨자만 출력        \n",
    "        if return_only_O:\n",
    "            result_df = result_df[result_df['result']!='꽝']\n",
    "        \n",
    "        break\n",
    "        \n",
    "    return result_df"
   ]
  },
  {
   "cell_type": "markdown",
   "id": "c0e82adc",
   "metadata": {},
   "source": [
    "## 2.3. 함수 사용 예시"
   ]
  },
  {
   "cell_type": "code",
   "execution_count": 19,
   "id": "bd2501e7",
   "metadata": {},
   "outputs": [
    {
     "data": {
      "text/html": [
       "<div>\n",
       "<style scoped>\n",
       "    .dataframe tbody tr th:only-of-type {\n",
       "        vertical-align: middle;\n",
       "    }\n",
       "\n",
       "    .dataframe tbody tr th {\n",
       "        vertical-align: top;\n",
       "    }\n",
       "\n",
       "    .dataframe thead th {\n",
       "        text-align: right;\n",
       "    }\n",
       "</style>\n",
       "<table border=\"1\" class=\"dataframe\">\n",
       "  <thead>\n",
       "    <tr style=\"text-align: right;\">\n",
       "      <th></th>\n",
       "      <th>result</th>\n",
       "    </tr>\n",
       "  </thead>\n",
       "  <tbody>\n",
       "    <tr>\n",
       "      <th>은주</th>\n",
       "      <td>PPT 제작</td>\n",
       "    </tr>\n",
       "    <tr>\n",
       "      <th>인혜</th>\n",
       "      <td>자료 조사</td>\n",
       "    </tr>\n",
       "    <tr>\n",
       "      <th>일하</th>\n",
       "      <td>꽝</td>\n",
       "    </tr>\n",
       "    <tr>\n",
       "      <th>동택</th>\n",
       "      <td>발표</td>\n",
       "    </tr>\n",
       "  </tbody>\n",
       "</table>\n",
       "</div>"
      ],
      "text/plain": [
       "    result\n",
       "은주  PPT 제작\n",
       "인혜   자료 조사\n",
       "일하       꽝\n",
       "동택      발표"
      ]
     },
     "execution_count": 19,
     "metadata": {},
     "output_type": "execute_result"
    }
   ],
   "source": [
    "inputs = ['은주', '인혜', '일하', '동택']\n",
    "outputs = ['PPT 제작', '발표', '자료 조사']\n",
    "\n",
    "ghost_lag_role(inputs, outputs)"
   ]
  },
  {
   "cell_type": "code",
   "execution_count": 20,
   "id": "b34c8de2",
   "metadata": {},
   "outputs": [
    {
     "data": {
      "text/html": [
       "<div>\n",
       "<style scoped>\n",
       "    .dataframe tbody tr th:only-of-type {\n",
       "        vertical-align: middle;\n",
       "    }\n",
       "\n",
       "    .dataframe tbody tr th {\n",
       "        vertical-align: top;\n",
       "    }\n",
       "\n",
       "    .dataframe thead th {\n",
       "        text-align: right;\n",
       "    }\n",
       "</style>\n",
       "<table border=\"1\" class=\"dataframe\">\n",
       "  <thead>\n",
       "    <tr style=\"text-align: right;\">\n",
       "      <th></th>\n",
       "      <th>result</th>\n",
       "    </tr>\n",
       "  </thead>\n",
       "  <tbody>\n",
       "    <tr>\n",
       "      <th>인혜</th>\n",
       "      <td>자료 조사</td>\n",
       "    </tr>\n",
       "    <tr>\n",
       "      <th>일하</th>\n",
       "      <td>발표</td>\n",
       "    </tr>\n",
       "    <tr>\n",
       "      <th>동택</th>\n",
       "      <td>PPT 제작</td>\n",
       "    </tr>\n",
       "  </tbody>\n",
       "</table>\n",
       "</div>"
      ],
      "text/plain": [
       "    result\n",
       "인혜   자료 조사\n",
       "일하      발표\n",
       "동택  PPT 제작"
      ]
     },
     "execution_count": 20,
     "metadata": {},
     "output_type": "execute_result"
    }
   ],
   "source": [
    "inputs = ['은주', '인혜', '일하', '동택']\n",
    "outputs = ['PPT 제작', '발표', '자료 조사']\n",
    "\n",
    "ghost_lag_role(inputs, outputs, True)"
   ]
  },
  {
   "cell_type": "markdown",
   "id": "ef7345da",
   "metadata": {},
   "source": [
    "#### 예상되는 오류에 대한 예시"
   ]
  },
  {
   "cell_type": "code",
   "execution_count": 21,
   "id": "94a5b8ce",
   "metadata": {},
   "outputs": [
    {
     "name": "stdout",
     "output_type": "stream",
     "text": [
      "!! inputs와 outputs는 list의 형태로 입력해주세요 !!\n"
     ]
    },
    {
     "data": {
      "text/html": [
       "<div>\n",
       "<style scoped>\n",
       "    .dataframe tbody tr th:only-of-type {\n",
       "        vertical-align: middle;\n",
       "    }\n",
       "\n",
       "    .dataframe tbody tr th {\n",
       "        vertical-align: top;\n",
       "    }\n",
       "\n",
       "    .dataframe thead th {\n",
       "        text-align: right;\n",
       "    }\n",
       "</style>\n",
       "<table border=\"1\" class=\"dataframe\">\n",
       "  <thead>\n",
       "    <tr style=\"text-align: right;\">\n",
       "      <th></th>\n",
       "    </tr>\n",
       "  </thead>\n",
       "  <tbody>\n",
       "  </tbody>\n",
       "</table>\n",
       "</div>"
      ],
      "text/plain": [
       "Empty DataFrame\n",
       "Columns: []\n",
       "Index: []"
      ]
     },
     "execution_count": 21,
     "metadata": {},
     "output_type": "execute_result"
    }
   ],
   "source": [
    "inputs = '가'\n",
    "outputs = ['PPT 제작', '발표', '자료 조사']\n",
    "\n",
    "ghost_lag_role(inputs, outputs)"
   ]
  },
  {
   "cell_type": "code",
   "execution_count": 22,
   "id": "1ecfd222",
   "metadata": {},
   "outputs": [
    {
     "name": "stdout",
     "output_type": "stream",
     "text": [
      "!! 입력 목록이 비어있습니다 !!\n"
     ]
    },
    {
     "data": {
      "text/html": [
       "<div>\n",
       "<style scoped>\n",
       "    .dataframe tbody tr th:only-of-type {\n",
       "        vertical-align: middle;\n",
       "    }\n",
       "\n",
       "    .dataframe tbody tr th {\n",
       "        vertical-align: top;\n",
       "    }\n",
       "\n",
       "    .dataframe thead th {\n",
       "        text-align: right;\n",
       "    }\n",
       "</style>\n",
       "<table border=\"1\" class=\"dataframe\">\n",
       "  <thead>\n",
       "    <tr style=\"text-align: right;\">\n",
       "      <th></th>\n",
       "    </tr>\n",
       "  </thead>\n",
       "  <tbody>\n",
       "  </tbody>\n",
       "</table>\n",
       "</div>"
      ],
      "text/plain": [
       "Empty DataFrame\n",
       "Columns: []\n",
       "Index: []"
      ]
     },
     "execution_count": 22,
     "metadata": {},
     "output_type": "execute_result"
    }
   ],
   "source": [
    "inputs = []\n",
    "outputs = ['PPT 제작', '발표', '자료 조사']\n",
    "\n",
    "ghost_lag_role(inputs, outputs)"
   ]
  },
  {
   "cell_type": "code",
   "execution_count": 23,
   "id": "5cd62853",
   "metadata": {},
   "outputs": [
    {
     "name": "stdout",
     "output_type": "stream",
     "text": [
      "!! 입력 목록의 수보다 출력 목록의 수가 많습니다 !!\n"
     ]
    },
    {
     "data": {
      "text/html": [
       "<div>\n",
       "<style scoped>\n",
       "    .dataframe tbody tr th:only-of-type {\n",
       "        vertical-align: middle;\n",
       "    }\n",
       "\n",
       "    .dataframe tbody tr th {\n",
       "        vertical-align: top;\n",
       "    }\n",
       "\n",
       "    .dataframe thead th {\n",
       "        text-align: right;\n",
       "    }\n",
       "</style>\n",
       "<table border=\"1\" class=\"dataframe\">\n",
       "  <thead>\n",
       "    <tr style=\"text-align: right;\">\n",
       "      <th></th>\n",
       "    </tr>\n",
       "  </thead>\n",
       "  <tbody>\n",
       "  </tbody>\n",
       "</table>\n",
       "</div>"
      ],
      "text/plain": [
       "Empty DataFrame\n",
       "Columns: []\n",
       "Index: []"
      ]
     },
     "execution_count": 23,
     "metadata": {},
     "output_type": "execute_result"
    }
   ],
   "source": [
    "inputs = ['은주', '인혜']\n",
    "outputs = ['PPT 제작', '발표', '자료 조사']\n",
    "\n",
    "ghost_lag_role(inputs, outputs)"
   ]
  },
  {
   "cell_type": "code",
   "execution_count": 24,
   "id": "534e993a",
   "metadata": {
    "scrolled": true
   },
   "outputs": [
    {
     "name": "stdout",
     "output_type": "stream",
     "text": [
      "### 출력 목록이 비어있습니다 ###\n"
     ]
    },
    {
     "data": {
      "text/html": [
       "<div>\n",
       "<style scoped>\n",
       "    .dataframe tbody tr th:only-of-type {\n",
       "        vertical-align: middle;\n",
       "    }\n",
       "\n",
       "    .dataframe tbody tr th {\n",
       "        vertical-align: top;\n",
       "    }\n",
       "\n",
       "    .dataframe thead th {\n",
       "        text-align: right;\n",
       "    }\n",
       "</style>\n",
       "<table border=\"1\" class=\"dataframe\">\n",
       "  <thead>\n",
       "    <tr style=\"text-align: right;\">\n",
       "      <th></th>\n",
       "      <th>result</th>\n",
       "    </tr>\n",
       "  </thead>\n",
       "  <tbody>\n",
       "    <tr>\n",
       "      <th>은주</th>\n",
       "      <td>꽝</td>\n",
       "    </tr>\n",
       "    <tr>\n",
       "      <th>인혜</th>\n",
       "      <td>꽝</td>\n",
       "    </tr>\n",
       "    <tr>\n",
       "      <th>일하</th>\n",
       "      <td>꽝</td>\n",
       "    </tr>\n",
       "    <tr>\n",
       "      <th>동택</th>\n",
       "      <td>꽝</td>\n",
       "    </tr>\n",
       "  </tbody>\n",
       "</table>\n",
       "</div>"
      ],
      "text/plain": [
       "   result\n",
       "은주      꽝\n",
       "인혜      꽝\n",
       "일하      꽝\n",
       "동택      꽝"
      ]
     },
     "execution_count": 24,
     "metadata": {},
     "output_type": "execute_result"
    }
   ],
   "source": [
    "inputs = ['은주', '인혜', '일하', '동택']\n",
    "outputs = []\n",
    "\n",
    "ghost_lag_role(inputs, outputs)"
   ]
  },
  {
   "cell_type": "markdown",
   "id": "62700997",
   "metadata": {},
   "source": [
    "# 3. 순서 정하기"
   ]
  },
  {
   "cell_type": "markdown",
   "id": "656c53eb",
   "metadata": {},
   "source": [
    "## 3.1. Process 살펴보기"
   ]
  },
  {
   "cell_type": "markdown",
   "id": "b942abc5",
   "metadata": {},
   "source": [
    "역할 배정하기는 n명의 당첨자 정하기에서 조금 수정한 형태로, 입력 목록에서 당첨자 수만큼 순서를 정하는 것입니다. 따라서 입력 목록과 당첨자 수를 입력받고 사다리타기한 결과를 출력하는 것입니다. process를 살펴보도록 하겠습니다. 이번에도 앞의 내용과 중복되는 부분들은 설명 생략하겠습니다."
   ]
  },
  {
   "cell_type": "code",
   "execution_count": 25,
   "id": "878f6a31",
   "metadata": {},
   "outputs": [],
   "source": [
    "inputs = ['은주', '인혜', '일하', '동택']\n",
    "n_inputs = len(inputs)\n",
    "\n",
    "n_outputs = 2"
   ]
  },
  {
   "cell_type": "code",
   "execution_count": 26,
   "id": "6ca299d3",
   "metadata": {},
   "outputs": [
    {
     "data": {
      "text/plain": [
       "['1', '2', '꽝', '꽝']"
      ]
     },
     "execution_count": 26,
     "metadata": {},
     "output_type": "execute_result"
    }
   ],
   "source": [
    "outputs = [str(x+1) for x in range(n_outputs)] + ['꽝' for x in range(n_inputs - n_outputs)]\n",
    "outputs"
   ]
  },
  {
   "cell_type": "markdown",
   "id": "ff54d7f4",
   "metadata": {},
   "source": [
    "결과물 출력을 위해 입력받은 당첨자수만큼 숫자를 순서대로 생성하고, 입력 목록의 개수에서 당첨자 수를 뺀만큼 '꽝'을 생성하여 리스트 형태로 만듭니다."
   ]
  },
  {
   "cell_type": "code",
   "execution_count": 27,
   "id": "7f3f8460",
   "metadata": {},
   "outputs": [
    {
     "data": {
      "text/plain": [
       "{'은주': '1', '인혜': '꽝', '일하': '꽝', '동택': '2'}"
      ]
     },
     "execution_count": 27,
     "metadata": {},
     "output_type": "execute_result"
    }
   ],
   "source": [
    "res_dict = {}\n",
    "for x in inputs:\n",
    "    res = rd.choice(outputs)\n",
    "    outputs.remove(res)\n",
    "    res_dict[x] = res\n",
    "    \n",
    "res_dict"
   ]
  },
  {
   "cell_type": "code",
   "execution_count": 28,
   "id": "ed22c3dd",
   "metadata": {},
   "outputs": [
    {
     "data": {
      "text/html": [
       "<div>\n",
       "<style scoped>\n",
       "    .dataframe tbody tr th:only-of-type {\n",
       "        vertical-align: middle;\n",
       "    }\n",
       "\n",
       "    .dataframe tbody tr th {\n",
       "        vertical-align: top;\n",
       "    }\n",
       "\n",
       "    .dataframe thead th {\n",
       "        text-align: right;\n",
       "    }\n",
       "</style>\n",
       "<table border=\"1\" class=\"dataframe\">\n",
       "  <thead>\n",
       "    <tr style=\"text-align: right;\">\n",
       "      <th></th>\n",
       "      <th>result</th>\n",
       "    </tr>\n",
       "  </thead>\n",
       "  <tbody>\n",
       "    <tr>\n",
       "      <th>은주</th>\n",
       "      <td>1</td>\n",
       "    </tr>\n",
       "    <tr>\n",
       "      <th>인혜</th>\n",
       "      <td>꽝</td>\n",
       "    </tr>\n",
       "    <tr>\n",
       "      <th>일하</th>\n",
       "      <td>꽝</td>\n",
       "    </tr>\n",
       "    <tr>\n",
       "      <th>동택</th>\n",
       "      <td>2</td>\n",
       "    </tr>\n",
       "  </tbody>\n",
       "</table>\n",
       "</div>"
      ],
      "text/plain": [
       "   result\n",
       "은주      1\n",
       "인혜      꽝\n",
       "일하      꽝\n",
       "동택      2"
      ]
     },
     "execution_count": 28,
     "metadata": {},
     "output_type": "execute_result"
    }
   ],
   "source": [
    "res_df = pd.DataFrame([res_dict], index=['result']).T\n",
    "res_df"
   ]
  },
  {
   "cell_type": "markdown",
   "id": "4d9a2a21",
   "metadata": {},
   "source": [
    "## 1.2. 함수 만들기"
   ]
  },
  {
   "cell_type": "code",
   "execution_count": 29,
   "id": "3a1feeea",
   "metadata": {},
   "outputs": [],
   "source": [
    "def ghost_lag_order(inputs, n_outputs, return_only_O=False, order=True):\n",
    "    \"\"\"\n",
    "    사다리타기 3 : 순서 정하기\n",
    "    입력 목록에서 입력한 수만큼 순서를 정하고 데이터프레임으로 반환합니다.\n",
    "    \n",
    "    Args:\n",
    "        inputs (list): 사다리타기 입력값\n",
    "        n_outputs (int): 당첨자의 수\n",
    "        return_only_O (bool, default=False): 당첨자만 출력할지에 대한 여부\n",
    "        order (bool, default=True): 순위에 따라 정렬할지에 대한 여부\n",
    "        \n",
    "    Returns:\n",
    "        dataframe: 사다리타기 결과값\n",
    "    \"\"\"\n",
    "    result_df = pd.DataFrame()\n",
    "    \n",
    "    while True:\n",
    "        # input이 list 형태가 아닌 경우\n",
    "        if type(inputs) != list:\n",
    "            print('!! inputs는 list의 형태로 입력해주세요 !!')\n",
    "            break\n",
    "            \n",
    "        # 입력 목록의 개수 세기\n",
    "        n_inputs = len(inputs)\n",
    "        \n",
    "        # 빈 list를 입력한 경우\n",
    "        if n_inputs < 1 :\n",
    "            print('!! 입력 목록이 비어있습니다 !!')\n",
    "            break\n",
    "            \n",
    "        # 입력 목록의 수 < 당첨자의 수\n",
    "        if n_inputs < n_outputs:\n",
    "            print('!! 입력 목록의 수보다 당첨자의 수가 많습니다 !!')\n",
    "            break\n",
    "            \n",
    "        # 당첨자의 수가 0인 경우\n",
    "        if n_outputs == 0:\n",
    "            print('### 당첨자의 수가 0명입니다 ###')\n",
    "            \n",
    "        # 출력 리스트 생성\n",
    "        try:\n",
    "            outputs = [str(x+1) for x in range(n_outputs)] + ['꽝' for x in range(n_inputs - n_outputs)]\n",
    "        except TypeError:\n",
    "            print('!! 당첨자의 수는 int형태로 입력되어야 합니다 !!')\n",
    "            break\n",
    "            \n",
    "        # 사다리 타기 결과\n",
    "        res_dict = {}\n",
    "        for x in inputs:\n",
    "            res = rd.choice(outputs)\n",
    "            outputs.remove(res)\n",
    "            res_dict[x] = res\n",
    "\n",
    "        # 데이터프레임으로 변환\n",
    "        result_df = pd.DataFrame([res_dict], index=['result']).T\n",
    "        \n",
    "        # 당첨자만 출력        \n",
    "        if return_only_O:\n",
    "            result_df = result_df[result_df['result']!='꽝']\n",
    "        \n",
    "        # 순서에 따라 정렬\n",
    "        if order:\n",
    "            result_df = result_df.sort_values(by='result', ascending=True)\n",
    "            \n",
    "        break\n",
    "        \n",
    "    return result_df"
   ]
  },
  {
   "cell_type": "markdown",
   "id": "14e0fcc4",
   "metadata": {},
   "source": [
    "## 1.3. 함수 사용 예시"
   ]
  },
  {
   "cell_type": "code",
   "execution_count": 52,
   "id": "8945d458",
   "metadata": {},
   "outputs": [
    {
     "data": {
      "text/html": [
       "<div>\n",
       "<style scoped>\n",
       "    .dataframe tbody tr th:only-of-type {\n",
       "        vertical-align: middle;\n",
       "    }\n",
       "\n",
       "    .dataframe tbody tr th {\n",
       "        vertical-align: top;\n",
       "    }\n",
       "\n",
       "    .dataframe thead th {\n",
       "        text-align: right;\n",
       "    }\n",
       "</style>\n",
       "<table border=\"1\" class=\"dataframe\">\n",
       "  <thead>\n",
       "    <tr style=\"text-align: right;\">\n",
       "      <th></th>\n",
       "      <th>result</th>\n",
       "    </tr>\n",
       "  </thead>\n",
       "  <tbody>\n",
       "    <tr>\n",
       "      <th>은주</th>\n",
       "      <td>1</td>\n",
       "    </tr>\n",
       "    <tr>\n",
       "      <th>인혜</th>\n",
       "      <td>2</td>\n",
       "    </tr>\n",
       "    <tr>\n",
       "      <th>일하</th>\n",
       "      <td>꽝</td>\n",
       "    </tr>\n",
       "    <tr>\n",
       "      <th>동택</th>\n",
       "      <td>꽝</td>\n",
       "    </tr>\n",
       "  </tbody>\n",
       "</table>\n",
       "</div>"
      ],
      "text/plain": [
       "   result\n",
       "은주      1\n",
       "인혜      2\n",
       "일하      꽝\n",
       "동택      꽝"
      ]
     },
     "execution_count": 52,
     "metadata": {},
     "output_type": "execute_result"
    }
   ],
   "source": [
    "names = ['은주', '인혜', '일하', '동택']\n",
    "n_outputs = 2\n",
    "ghost_lag_order(names, n_outputs)"
   ]
  },
  {
   "cell_type": "code",
   "execution_count": 54,
   "id": "787288b7",
   "metadata": {},
   "outputs": [
    {
     "data": {
      "text/html": [
       "<div>\n",
       "<style scoped>\n",
       "    .dataframe tbody tr th:only-of-type {\n",
       "        vertical-align: middle;\n",
       "    }\n",
       "\n",
       "    .dataframe tbody tr th {\n",
       "        vertical-align: top;\n",
       "    }\n",
       "\n",
       "    .dataframe thead th {\n",
       "        text-align: right;\n",
       "    }\n",
       "</style>\n",
       "<table border=\"1\" class=\"dataframe\">\n",
       "  <thead>\n",
       "    <tr style=\"text-align: right;\">\n",
       "      <th></th>\n",
       "      <th>result</th>\n",
       "    </tr>\n",
       "  </thead>\n",
       "  <tbody>\n",
       "    <tr>\n",
       "      <th>은주</th>\n",
       "      <td>1</td>\n",
       "    </tr>\n",
       "    <tr>\n",
       "      <th>인혜</th>\n",
       "      <td>2</td>\n",
       "    </tr>\n",
       "  </tbody>\n",
       "</table>\n",
       "</div>"
      ],
      "text/plain": [
       "   result\n",
       "은주      1\n",
       "인혜      2"
      ]
     },
     "execution_count": 54,
     "metadata": {},
     "output_type": "execute_result"
    }
   ],
   "source": [
    "names = ['은주', '인혜', '일하', '동택']\n",
    "n_outputs = 2\n",
    "ghost_lag_order(names, n_outputs, True)"
   ]
  },
  {
   "cell_type": "markdown",
   "id": "72fadf7a",
   "metadata": {},
   "source": [
    "---"
   ]
  },
  {
   "cell_type": "markdown",
   "id": "a1dbdacc",
   "metadata": {},
   "source": [
    "이렇게 간단하게 사다리타기를 구현해보았습니다. 간단한 문제들에 대해 파이썬으로 구현하는 연습을 하는게 재미있는 것 같습니다. 부족하지만 오늘도 제 글 읽어주셔서 감사합니다 :)"
   ]
  }
 ],
 "metadata": {
  "kernelspec": {
   "display_name": "Python 3 (ipykernel)",
   "language": "python",
   "name": "python3"
  },
  "language_info": {
   "codemirror_mode": {
    "name": "ipython",
    "version": 3
   },
   "file_extension": ".py",
   "mimetype": "text/x-python",
   "name": "python",
   "nbconvert_exporter": "python",
   "pygments_lexer": "ipython3",
   "version": "3.9.7"
  },
  "toc": {
   "base_numbering": 1,
   "nav_menu": {},
   "number_sections": true,
   "sideBar": true,
   "skip_h1_title": false,
   "title_cell": "Table of Contents",
   "title_sidebar": "Contents",
   "toc_cell": false,
   "toc_position": {},
   "toc_section_display": true,
   "toc_window_display": false
  }
 },
 "nbformat": 4,
 "nbformat_minor": 5
}
